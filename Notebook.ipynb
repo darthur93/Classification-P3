{
 "cells": [
  {
   "cell_type": "markdown",
   "metadata": {},
   "source": [
    "# Project 3: Classification\n",
    "#Daniel Arthur"
   ]
  },
  {
   "cell_type": "markdown",
   "metadata": {},
   "source": [
    "Index:\n",
    "Business Understanding: Notebook clearly explains the project’s value for helping a specific stakeholder solve a real-world problem.\n",
    "    \n",
    "    Introduction explains the real-world problem the project aims to solve\n",
    "    Introduction identifies stakeholders who could use the project and how they would use it\n",
    "    Conclusion summarizes implications of the project for the real-world problem and stakeholders \n",
    "\n",
    "\n",
    "Data Understanding:  Notebook clearly describes the source and properties of the data to show how useful the data are for solving the problem of interest\n",
    "\n",
    "    Describe the data sources and explain why the data are suitable for the project\n",
    "    Present the size of the dataset and descriptive statistics for all features used in the analysis\n",
    "    Justify the inclusion of features based on their properties and relevance for the project\n",
    "    Identify any limitations of the data that have implications for the project\n",
    "\n",
    "\n",
    "Data Preparation: Notebook shows how you prepare your data and explains why by including\n",
    "\n",
    "    Instructions or code needed to get and prepare the raw data for analysis\n",
    "    Code comments and text to explain what your data preparation code does\n",
    "    Valid justifications for why the steps you took are appropriate for the problem you are solving\n",
    "\n",
    "\n",
    "Modeling: Notebook demonstrates an iterative approach to model-building.\n",
    "\n",
    "    Runs and interprets a simple, baseline model for comparison\n",
    "    Introduces new models that improve on prior models and interprets their results\n",
    "    Explicitly justifies model changes based on the results of prior models and the problem context\n",
    "    Explicitly describes any improvements found from running new models\n",
    "\n",
    "\n",
    "\n",
    "Evaluation: Notebook shows how well a final model solves the real-world problem.\n",
    "\n",
    "    Justifies choice of metrics using context of the real-world problem and consequences of errors\n",
    "    Identifies one final model based on performance on the chosen metrics with validation data\n",
    "    Evaluates the performance of the final model using holdout test data\n",
    "    Discusses implications of the final model evaluation for solving the real-world problem\n"
   ]
  },
  {
   "cell_type": "markdown",
   "metadata": {},
   "source": [
    "Code Quality: Code in notebook and related files meets professional standards \n",
    "    Code is easy to read, using comments, spacing, variable names, and function docstrings\n",
    "    All code runs and no code or comments are included that are not needed for the project \n",
    "    Code minimizes repetition, using loops, functions, and classes\n",
    "    Code adapted from others is properly cited with author names and location of the cited material\n"
   ]
  },
  {
   "cell_type": "markdown",
   "metadata": {},
   "source": [
    "Dummy Model\\\n",
    "Log Regression\\\n",
    "Forests\\\n",
    "    Random Forest\\\n",
    "    Decision Trees\\\n",
    "    Bagged Trees\\\n",
    "Weak Learners\\\n",
    "    Addaboost\\\n",
    "    Gradient Boosting\\\n",
    "KNeighborsClassifier\\"
   ]
  },
  {
   "cell_type": "markdown",
   "metadata": {},
   "source": [
    "Introduction"
   ]
  },
  {
   "cell_type": "markdown",
   "metadata": {},
   "source": [
    "Buisness Understanding"
   ]
  },
  {
   "cell_type": "markdown",
   "metadata": {},
   "source": [
    "Importing the necessary libraries"
   ]
  },
  {
   "cell_type": "code",
   "execution_count": 180,
   "metadata": {},
   "outputs": [],
   "source": [
    "import pandas as pd\n",
    "import numpy as np\n",
    "import seaborn as sns\n",
    "import matplotlib.pyplot as plt\n",
    "%matplotlib inline\n",
    "\n",
    "import statsmodels.api as sm\n",
    "import statsmodels.formula.api as smf\n",
    "\n",
    "\n",
    "from sklearn.preprocessing import OneHotEncoder, StandardScaler\n",
    "\n",
    "from sklearn.impute import MissingIndicator, SimpleImputer\n",
    "\n",
    "from sklearn.dummy import DummyClassifier\n",
    "from sklearn.linear_model import LogisticRegression\n",
    "from sklearn.ensemble import RandomForestClassifier\n",
    "from sklearn.tree import DecisionTreeClassifier \n",
    "from sklearn import tree\n",
    "from sklearn.neighbors import KNeighborsClassifier\n",
    "from sklearn.svm import SVC\n",
    "from sklearn.ensemble import BaggingClassifier\n",
    "from sklearn.datasets import make_classification\n",
    "from sklearn.model_selection import train_test_split, cross_val_score\n",
    "from sklearn.feature_selection import SelectFromModel\n",
    "from sklearn.ensemble import AdaBoostClassifier, GradientBoostingClassifier\n",
    "from sklearn.metrics import accuracy_score, f1_score, confusion_matrix, classification_report\n",
    "from sklearn.metrics import precision_score, recall_score\n",
    "# plot_confusion_matrix is a handy visual tool, added in the latest version of scikit-learn\n",
    "# if you are running an older version, comment out this line and just use confusion_matrix\n",
    "from sklearn.metrics import plot_confusion_matrix\n",
    "from sklearn.metrics import confusion_matrix\n",
    "from sklearn.metrics import plot_roc_curve"
   ]
  },
  {
   "cell_type": "markdown",
   "metadata": {},
   "source": [
    "Importing the data that will be used.\n",
    "Data Understanding"
   ]
  },
  {
   "cell_type": "code",
   "execution_count": 181,
   "metadata": {},
   "outputs": [],
   "source": [
    "data_labels=pd.read_csv('Training_Set_Values.csv')\n",
    "data_values=pd.read_csv('Training_Set_Labels.csv')\n",
    "data = data_values.merge(data_labels, on='id')"
   ]
  },
  {
   "cell_type": "code",
   "execution_count": 182,
   "metadata": {
    "scrolled": false
   },
   "outputs": [
    {
     "data": {
      "text/html": [
       "<div>\n",
       "<style scoped>\n",
       "    .dataframe tbody tr th:only-of-type {\n",
       "        vertical-align: middle;\n",
       "    }\n",
       "\n",
       "    .dataframe tbody tr th {\n",
       "        vertical-align: top;\n",
       "    }\n",
       "\n",
       "    .dataframe thead th {\n",
       "        text-align: right;\n",
       "    }\n",
       "</style>\n",
       "<table border=\"1\" class=\"dataframe\">\n",
       "  <thead>\n",
       "    <tr style=\"text-align: right;\">\n",
       "      <th></th>\n",
       "      <th>id</th>\n",
       "      <th>status_group</th>\n",
       "      <th>amount_tsh</th>\n",
       "      <th>date_recorded</th>\n",
       "      <th>funder</th>\n",
       "      <th>gps_height</th>\n",
       "      <th>installer</th>\n",
       "      <th>longitude</th>\n",
       "      <th>latitude</th>\n",
       "      <th>wpt_name</th>\n",
       "      <th>...</th>\n",
       "      <th>payment_type</th>\n",
       "      <th>water_quality</th>\n",
       "      <th>quality_group</th>\n",
       "      <th>quantity</th>\n",
       "      <th>quantity_group</th>\n",
       "      <th>source</th>\n",
       "      <th>source_type</th>\n",
       "      <th>source_class</th>\n",
       "      <th>waterpoint_type</th>\n",
       "      <th>waterpoint_type_group</th>\n",
       "    </tr>\n",
       "  </thead>\n",
       "  <tbody>\n",
       "    <tr>\n",
       "      <th>0</th>\n",
       "      <td>69572</td>\n",
       "      <td>functional</td>\n",
       "      <td>6000.0</td>\n",
       "      <td>2011-03-14</td>\n",
       "      <td>Roman</td>\n",
       "      <td>1390</td>\n",
       "      <td>Roman</td>\n",
       "      <td>34.938093</td>\n",
       "      <td>-9.856322</td>\n",
       "      <td>none</td>\n",
       "      <td>...</td>\n",
       "      <td>annually</td>\n",
       "      <td>soft</td>\n",
       "      <td>good</td>\n",
       "      <td>enough</td>\n",
       "      <td>enough</td>\n",
       "      <td>spring</td>\n",
       "      <td>spring</td>\n",
       "      <td>groundwater</td>\n",
       "      <td>communal standpipe</td>\n",
       "      <td>communal standpipe</td>\n",
       "    </tr>\n",
       "    <tr>\n",
       "      <th>1</th>\n",
       "      <td>8776</td>\n",
       "      <td>functional</td>\n",
       "      <td>0.0</td>\n",
       "      <td>2013-03-06</td>\n",
       "      <td>Grumeti</td>\n",
       "      <td>1399</td>\n",
       "      <td>GRUMETI</td>\n",
       "      <td>34.698766</td>\n",
       "      <td>-2.147466</td>\n",
       "      <td>Zahanati</td>\n",
       "      <td>...</td>\n",
       "      <td>never pay</td>\n",
       "      <td>soft</td>\n",
       "      <td>good</td>\n",
       "      <td>insufficient</td>\n",
       "      <td>insufficient</td>\n",
       "      <td>rainwater harvesting</td>\n",
       "      <td>rainwater harvesting</td>\n",
       "      <td>surface</td>\n",
       "      <td>communal standpipe</td>\n",
       "      <td>communal standpipe</td>\n",
       "    </tr>\n",
       "    <tr>\n",
       "      <th>2</th>\n",
       "      <td>34310</td>\n",
       "      <td>functional</td>\n",
       "      <td>25.0</td>\n",
       "      <td>2013-02-25</td>\n",
       "      <td>Lottery Club</td>\n",
       "      <td>686</td>\n",
       "      <td>World vision</td>\n",
       "      <td>37.460664</td>\n",
       "      <td>-3.821329</td>\n",
       "      <td>Kwa Mahundi</td>\n",
       "      <td>...</td>\n",
       "      <td>per bucket</td>\n",
       "      <td>soft</td>\n",
       "      <td>good</td>\n",
       "      <td>enough</td>\n",
       "      <td>enough</td>\n",
       "      <td>dam</td>\n",
       "      <td>dam</td>\n",
       "      <td>surface</td>\n",
       "      <td>communal standpipe multiple</td>\n",
       "      <td>communal standpipe</td>\n",
       "    </tr>\n",
       "    <tr>\n",
       "      <th>3</th>\n",
       "      <td>67743</td>\n",
       "      <td>non functional</td>\n",
       "      <td>0.0</td>\n",
       "      <td>2013-01-28</td>\n",
       "      <td>Unicef</td>\n",
       "      <td>263</td>\n",
       "      <td>UNICEF</td>\n",
       "      <td>38.486161</td>\n",
       "      <td>-11.155298</td>\n",
       "      <td>Zahanati Ya Nanyumbu</td>\n",
       "      <td>...</td>\n",
       "      <td>never pay</td>\n",
       "      <td>soft</td>\n",
       "      <td>good</td>\n",
       "      <td>dry</td>\n",
       "      <td>dry</td>\n",
       "      <td>machine dbh</td>\n",
       "      <td>borehole</td>\n",
       "      <td>groundwater</td>\n",
       "      <td>communal standpipe multiple</td>\n",
       "      <td>communal standpipe</td>\n",
       "    </tr>\n",
       "    <tr>\n",
       "      <th>4</th>\n",
       "      <td>19728</td>\n",
       "      <td>functional</td>\n",
       "      <td>0.0</td>\n",
       "      <td>2011-07-13</td>\n",
       "      <td>Action In A</td>\n",
       "      <td>0</td>\n",
       "      <td>Artisan</td>\n",
       "      <td>31.130847</td>\n",
       "      <td>-1.825359</td>\n",
       "      <td>Shuleni</td>\n",
       "      <td>...</td>\n",
       "      <td>never pay</td>\n",
       "      <td>soft</td>\n",
       "      <td>good</td>\n",
       "      <td>seasonal</td>\n",
       "      <td>seasonal</td>\n",
       "      <td>rainwater harvesting</td>\n",
       "      <td>rainwater harvesting</td>\n",
       "      <td>surface</td>\n",
       "      <td>communal standpipe</td>\n",
       "      <td>communal standpipe</td>\n",
       "    </tr>\n",
       "  </tbody>\n",
       "</table>\n",
       "<p>5 rows × 41 columns</p>\n",
       "</div>"
      ],
      "text/plain": [
       "      id    status_group  amount_tsh date_recorded        funder  gps_height  \\\n",
       "0  69572      functional      6000.0    2011-03-14         Roman        1390   \n",
       "1   8776      functional         0.0    2013-03-06       Grumeti        1399   \n",
       "2  34310      functional        25.0    2013-02-25  Lottery Club         686   \n",
       "3  67743  non functional         0.0    2013-01-28        Unicef         263   \n",
       "4  19728      functional         0.0    2011-07-13   Action In A           0   \n",
       "\n",
       "      installer  longitude   latitude              wpt_name  ...  \\\n",
       "0         Roman  34.938093  -9.856322                  none  ...   \n",
       "1       GRUMETI  34.698766  -2.147466              Zahanati  ...   \n",
       "2  World vision  37.460664  -3.821329           Kwa Mahundi  ...   \n",
       "3        UNICEF  38.486161 -11.155298  Zahanati Ya Nanyumbu  ...   \n",
       "4       Artisan  31.130847  -1.825359               Shuleni  ...   \n",
       "\n",
       "   payment_type water_quality quality_group      quantity  quantity_group  \\\n",
       "0      annually          soft          good        enough          enough   \n",
       "1     never pay          soft          good  insufficient    insufficient   \n",
       "2    per bucket          soft          good        enough          enough   \n",
       "3     never pay          soft          good           dry             dry   \n",
       "4     never pay          soft          good      seasonal        seasonal   \n",
       "\n",
       "                 source           source_type source_class  \\\n",
       "0                spring                spring  groundwater   \n",
       "1  rainwater harvesting  rainwater harvesting      surface   \n",
       "2                   dam                   dam      surface   \n",
       "3           machine dbh              borehole  groundwater   \n",
       "4  rainwater harvesting  rainwater harvesting      surface   \n",
       "\n",
       "               waterpoint_type waterpoint_type_group  \n",
       "0           communal standpipe    communal standpipe  \n",
       "1           communal standpipe    communal standpipe  \n",
       "2  communal standpipe multiple    communal standpipe  \n",
       "3  communal standpipe multiple    communal standpipe  \n",
       "4           communal standpipe    communal standpipe  \n",
       "\n",
       "[5 rows x 41 columns]"
      ]
     },
     "execution_count": 182,
     "metadata": {},
     "output_type": "execute_result"
    }
   ],
   "source": [
    "data.head()"
   ]
  },
  {
   "cell_type": "markdown",
   "metadata": {},
   "source": [
    "The target Variable is 'Status_Group'"
   ]
  },
  {
   "cell_type": "code",
   "execution_count": 183,
   "metadata": {
    "scrolled": false
   },
   "outputs": [
    {
     "data": {
      "text/plain": [
       "functional                 32259\n",
       "non functional             22824\n",
       "functional needs repair     4317\n",
       "Name: status_group, dtype: int64"
      ]
     },
     "execution_count": 183,
     "metadata": {},
     "output_type": "execute_result"
    }
   ],
   "source": [
    "data.status_group.value_counts()"
   ]
  },
  {
   "cell_type": "markdown",
   "metadata": {},
   "source": [
    "Data Preperation"
   ]
  },
  {
   "cell_type": "code",
   "execution_count": 184,
   "metadata": {},
   "outputs": [],
   "source": [
    "waste_features=['wpt_name','num_private','subvillage','region_code','recorded_by','management_group',\n",
    "                'extraction_type_group','extraction_type_class','scheme_name','payment','quality_group',\n",
    "                'quantity_group','source_type','source_class','waterpoint_type_group','ward','installer',\n",
    "                'public_meeting','permit','date_recorded','construction_year','id']\n",
    "data.drop(waste_features, axis = 1, inplace = True)"
   ]
  },
  {
   "cell_type": "code",
   "execution_count": 185,
   "metadata": {
    "scrolled": true
   },
   "outputs": [],
   "source": [
    "#data.info()"
   ]
  },
  {
   "cell_type": "code",
   "execution_count": 186,
   "metadata": {},
   "outputs": [],
   "source": [
    "data['funder'] = pd.factorize(data['funder'])[0]\n",
    "data['scheme_management'] = pd.factorize(data['scheme_management'])[0]\n",
    "data['extraction_type'] = pd.factorize(data['extraction_type'])[0]\n",
    "data['management'] = pd.factorize(data['management'])[0]\n",
    "data['payment_type'] = pd.factorize(data['payment_type'])[0]\n",
    "data['water_quality'] = pd.factorize(data['water_quality'])[0]\n",
    "data['quantity'] = pd.factorize(data['quantity'])[0]\n",
    "data['source'] = pd.factorize(data['source'])[0]\n",
    "data['waterpoint_type'] = pd.factorize(data['waterpoint_type'])[0]\n",
    "data['basin'] = pd.factorize(data['basin'])[0]\n",
    "data['region'] = pd.factorize(data['region'])[0]\n",
    "data['lga'] = pd.factorize(data['lga'])[0]\n",
    "data['district_code'] = pd.factorize(data['district_code'])[0]"
   ]
  },
  {
   "cell_type": "code",
   "execution_count": 187,
   "metadata": {},
   "outputs": [],
   "source": [
    "y = data.status_group\n",
    "X = data.drop('status_group', axis = 1)"
   ]
  },
  {
   "cell_type": "code",
   "execution_count": 188,
   "metadata": {},
   "outputs": [],
   "source": [
    "X_train, X_test, y_train, y_test = train_test_split(X, y, test_size=0.5, random_state=42)"
   ]
  },
  {
   "cell_type": "code",
   "execution_count": 189,
   "metadata": {},
   "outputs": [],
   "source": [
    "X_scaled_train = StandardScaler().fit_transform(X_train)\n",
    "X_scaled_test = StandardScaler().fit_transform(X_test)"
   ]
  },
  {
   "cell_type": "markdown",
   "metadata": {},
   "source": [
    "Useful Functions"
   ]
  },
  {
   "cell_type": "code",
   "execution_count": 190,
   "metadata": {},
   "outputs": [],
   "source": [
    "def Evaluate(true, preds, model_name):\n",
    "    acc = accuracy_score(true, preds)\n",
    "    f1 = f1_score(true, preds, average = 'macro')\n",
    "    prec = precision_score(true, preds, average = 'macro')\n",
    "    rec = recall_score(true, preds, average = 'macro')\n",
    "    \n",
    "    print(\"Model: {}\".format(model_name))\n",
    "    print(\"Accuracy: {}\".format(acc))\n",
    "    print(\"F1-Score: {}\".format(f1))\n",
    "    print('Precision: {}'.format(prec))\n",
    "    print('Recall: {}'.format(rec))"
   ]
  },
  {
   "cell_type": "code",
   "execution_count": 191,
   "metadata": {},
   "outputs": [],
   "source": [
    "class ModelWithCV():\n",
    "    '''Structure to save the model and more easily see its crossvalidation'''\n",
    "    \n",
    "    def __init__(self, model, model_name, X, y, cv_now=True):\n",
    "        self.model = model\n",
    "        self.name = model_name\n",
    "        self.X = X\n",
    "        self.y = y\n",
    "        # For CV results\n",
    "        self.cv_results = None\n",
    "        self.cv_mean = None\n",
    "        self.cv_median = None\n",
    "        self.cv_std = None\n",
    "        #\n",
    "        if cv_now:\n",
    "            self.cross_validate()\n",
    "        \n",
    "    def cross_validate(self, X=None, y=None, kfolds=10):\n",
    "        '''\n",
    "        Perform cross-validation and return results.\n",
    "        \n",
    "        Args: \n",
    "          X:\n",
    "            Optional; Training data to perform CV on. Otherwise use X from object\n",
    "          y:\n",
    "            Optional; Training data to perform CV on. Otherwise use y from object\n",
    "          kfolds:\n",
    "            Optional; Number of folds for CV (default is 10)  \n",
    "        '''\n",
    "        \n",
    "        cv_X = X if X else self.X\n",
    "        cv_y = y if y else self.y\n",
    "\n",
    "        self.cv_results = cross_val_score(self.model, cv_X, cv_y, cv=kfolds)\n",
    "        self.cv_mean = np.mean(self.cv_results)\n",
    "        self.cv_median = np.median(self.cv_results)\n",
    "        self.cv_std = np.std(self.cv_results)\n",
    "\n",
    "        \n",
    "    def print_cv_summary(self):\n",
    "        cv_summary = (\n",
    "        f'''CV Results for `{self.name}` model:\n",
    "            {self.cv_mean:.5f} ± {self.cv_std:.5f} accuracy\n",
    "        ''')\n",
    "        print(cv_summary)\n",
    "\n",
    "        \n",
    "    def plot_cv(self, ax):\n",
    "        '''\n",
    "        Plot the cross-validation values using the array of results and given \n",
    "        Axis for plotting.\n",
    "        '''\n",
    "        ax.set_title(f'CV Results for `{self.name}` Model')\n",
    "        # Thinner violinplot with higher bw\n",
    "        sns.violinplot(y=self.cv_results, ax=ax, bw=.4)\n",
    "        sns.swarmplot(\n",
    "                y=self.cv_results,\n",
    "                color='orange',\n",
    "                size=10,\n",
    "                alpha= 0.8,\n",
    "                ax=ax\n",
    "        )\n",
    "\n",
    "        return ax"
   ]
  },
  {
   "cell_type": "code",
   "execution_count": 192,
   "metadata": {},
   "outputs": [],
   "source": [
    "def plot_feature_importances(model):\n",
    "    n_features = X_train.shape[1]\n",
    "    plt.figure(figsize=(8,8))\n",
    "    plt.barh(range(n_features), model.feature_importances_, align='center') \n",
    "    plt.yticks(np.arange(n_features), X_train.columns.values) \n",
    "    plt.xlabel('Feature importance')\n",
    "    plt.ylabel('Feature')"
   ]
  },
  {
   "cell_type": "code",
   "execution_count": 193,
   "metadata": {},
   "outputs": [],
   "source": [
    "def find_best_k(X_train, y_train, X_test, y_test, min_k=1, max_k=25):\n",
    "    best_k = 0\n",
    "    best_score = 0.0\n",
    "    for k in range(min_k, max_k+1, 2):\n",
    "        knn = KNeighborsClassifier(n_neighbors=k)\n",
    "        knn.fit(X_train, y_train)\n",
    "        preds = knn.predict(X_test)\n",
    "        f1 = f1_score(y_test, preds)\n",
    "        if f1 > best_score:\n",
    "            best_k = k\n",
    "            best_score = f1\n",
    "    \n",
    "    print(\"Best Value for k: {}\".format(best_k))\n",
    "    print(\"F1-Score: {}\".format(best_score))"
   ]
  },
  {
   "cell_type": "code",
   "execution_count": 194,
   "metadata": {},
   "outputs": [],
   "source": [
    "def PrintEvaluation(y_train, y_test, X_train, X_test, train_preds, test_preds, model):\n",
    "    print(\"Training Metrics\")\n",
    "    Evaluate(y_train, train_preds, model)\n",
    "    print(\"\")\n",
    "    \n",
    "    print('Training Cross Val Score')\n",
    "    print(cross_val_score(model, X_train, y_test, cv=5))\n",
    "    print(\"\")\n",
    "    \n",
    "    print(\"Testing Metrics\")\n",
    "    Evaluate(y_test, test_preds, model_name='simple_logreg_model')\n",
    "    print(\"\")\n",
    "    \n",
    "    print('Testing Cross Val Score')\n",
    "    print(cross_val_score(model, X_test, y_test, cv=5))"
   ]
  },
  {
   "cell_type": "markdown",
   "metadata": {},
   "source": [
    "Modeling"
   ]
  },
  {
   "cell_type": "markdown",
   "metadata": {},
   "source": [
    "1st Model - Dummy Model"
   ]
  },
  {
   "cell_type": "code",
   "execution_count": 195,
   "metadata": {},
   "outputs": [],
   "source": [
    "#instantiate model\n",
    "dummy_model = DummyClassifier(strategy='stratified')\n",
    "\n",
    "#fit model\n",
    "dummy_model.fit(X_scaled_train, y_train)\n",
    "\n",
    "# make predictions\n",
    "dummy_model_pred_train = dummy_model.predict(X_scaled_train)\n",
    "dummy_model_pred_test = dummy_model.predict(X_scaled_test)"
   ]
  },
  {
   "cell_type": "code",
   "execution_count": 196,
   "metadata": {},
   "outputs": [],
   "source": [
    "# Save Information\n",
    "dummy_model_results = ModelWithCV(\n",
    "                        model=dummy_model,\n",
    "                        model_name='dummy',\n",
    "                        X=X_scaled_train, \n",
    "                        y=y_train)"
   ]
  },
  {
   "cell_type": "markdown",
   "metadata": {},
   "source": [
    "Model Evaluation"
   ]
  },
  {
   "cell_type": "code",
   "execution_count": 197,
   "metadata": {},
   "outputs": [
    {
     "name": "stdout",
     "output_type": "stream",
     "text": [
      "Training Metrics\n",
      "Model: DummyClassifier(strategy='stratified')\n",
      "Accuracy: 0.4462962962962963\n",
      "F1-Score: 0.3318015130760756\n",
      "Precision: 0.3318045260978902\n",
      "Recall: 0.33183233944243823\n",
      "\n",
      "Training Cross Val Score\n",
      "[0.44680135 0.44781145 0.45454545 0.44882155 0.44494949]\n",
      "\n",
      "Testing Metrics\n",
      "Model: simple_logreg_model\n",
      "Accuracy: 0.44912457912457915\n",
      "F1-Score: 0.33396615416312\n",
      "Precision: 0.3339863040047922\n",
      "Recall: 0.3339819090804473\n",
      "\n",
      "Testing Cross Val Score\n",
      "[0.45454545 0.44259259 0.4473064  0.44949495 0.44494949]\n"
     ]
    }
   ],
   "source": [
    "PrintEvaluation(y_train, y_test, X_train, X_test, dummy_model_pred_train, dummy_model_pred_test, dummy_model)"
   ]
  },
  {
   "cell_type": "code",
   "execution_count": 198,
   "metadata": {},
   "outputs": [],
   "source": [
    "#fig, ax = plt.subplots()\n",
    "\n",
    "#ax = dummy_model_results.plot_cv(ax)\n",
    "#plt.tight_layout();\n",
    "\n",
    "#dummy_model_results.print_cv_summary()"
   ]
  },
  {
   "cell_type": "code",
   "execution_count": 199,
   "metadata": {},
   "outputs": [],
   "source": [
    "#fig, ax = plt.subplots()\n",
    "\n",
    "#fig.suptitle(\"Dummy Model\")\n",
    "\n",
    "#plot_confusion_matrix(dummy_model, X_scaled_train, y_train, ax=ax, cmap=\"plasma\");"
   ]
  },
  {
   "cell_type": "code",
   "execution_count": 200,
   "metadata": {
    "scrolled": true
   },
   "outputs": [],
   "source": [
    "# just the numbers (this should work even with older scikit-learn)\n",
    "#confusion_matrix(y_train, dummy_model_pred)"
   ]
  },
  {
   "cell_type": "markdown",
   "metadata": {},
   "source": [
    "2nd Model: Log Regression"
   ]
  },
  {
   "cell_type": "code",
   "execution_count": 201,
   "metadata": {},
   "outputs": [],
   "source": [
    "# Instantitate Model\n",
    "simple_logreg_model = LogisticRegression(random_state=2021, penalty='none')\n",
    "\n",
    "# Fit Model\n",
    "simple_logreg_model.fit(X_scaled_train, y_train)\n",
    "\n",
    "# Make Predictions\n",
    "simple_logreg_pred_train = simple_logreg_model.predict(X_scaled_train)\n",
    "simple_logreg_pred_test = simple_logreg_model.predict(X_scaled_test)"
   ]
  },
  {
   "cell_type": "code",
   "execution_count": 202,
   "metadata": {
    "scrolled": true
   },
   "outputs": [],
   "source": [
    "# Save Information\n",
    "simple_logreg_results = ModelWithCV(\n",
    "                        model=simple_logreg_model,\n",
    "                        model_name='simple_logreg',\n",
    "                        X=X_scaled_train, \n",
    "                        y=y_train\n",
    ")"
   ]
  },
  {
   "cell_type": "markdown",
   "metadata": {},
   "source": [
    "Evaluate Models"
   ]
  },
  {
   "cell_type": "code",
   "execution_count": 203,
   "metadata": {},
   "outputs": [
    {
     "name": "stdout",
     "output_type": "stream",
     "text": [
      "Training Metrics\n",
      "Model: LogisticRegression(penalty='none', random_state=2021)\n",
      "Accuracy: 0.6374074074074074\n",
      "F1-Score: 0.4249180534740104\n",
      "Precision: 0.5040754899410311\n",
      "Recall: 0.43848257377702243\n",
      "\n",
      "Training Cross Val Score\n",
      "[0.54242424 0.54242424 0.54242424 0.54225589 0.54242424]\n",
      "\n",
      "Testing Metrics\n",
      "Model: simple_logreg_model\n",
      "Accuracy: 0.6364983164983165\n",
      "F1-Score: 0.42412569521087423\n",
      "Precision: 0.4851825189070944\n",
      "Recall: 0.43837201067062076\n",
      "\n",
      "Testing Cross Val Score\n",
      "[0.63417508 0.62794613 0.63198653 0.64410774 0.63535354]\n"
     ]
    }
   ],
   "source": [
    "PrintEvaluation(y_train, y_test, X_scaled_train, X_scaled_test, simple_logreg_pred_train,\n",
    "                    simple_logreg_pred_test, simple_logreg_model)"
   ]
  },
  {
   "cell_type": "code",
   "execution_count": 204,
   "metadata": {},
   "outputs": [],
   "source": [
    "# Saving variable for convenience\n",
    "#model_results = simple_logreg_results\n",
    "\n",
    "# Plot CV results\n",
    "#fig, ax = plt.subplots()\n",
    "#ax = model_results.plot_cv(ax)\n",
    "#plt.tight_layout();\n",
    "# Print CV results\n",
    "#model_results.print_cv_summary()"
   ]
  },
  {
   "cell_type": "code",
   "execution_count": 205,
   "metadata": {},
   "outputs": [],
   "source": [
    "#confusion_matrix(y_train, simple_logreg_pred)"
   ]
  },
  {
   "cell_type": "code",
   "execution_count": 206,
   "metadata": {},
   "outputs": [],
   "source": [
    "#fig, ax = plt.subplots()\n",
    "\n",
    "#fig.suptitle(\"Logistic Regression with Numeric Features Only\")\n",
    "\n",
    "#plot_confusion_matrix(simple_logreg_model, X_scaled_train, y_train, ax=ax, cmap=\"plasma\");"
   ]
  },
  {
   "cell_type": "markdown",
   "metadata": {},
   "source": [
    "3rd Model: Random Forest Classifier"
   ]
  },
  {
   "cell_type": "code",
   "execution_count": 207,
   "metadata": {},
   "outputs": [],
   "source": [
    "#instanitate model\n",
    "rfc = RandomForestClassifier(n_estimators=500,max_features='auto',\n",
    "                                         min_samples_split=8)\n",
    "\n",
    "#fit model\n",
    "rfc.fit(X_train, y_train)\n",
    "\n",
    "#predict with model\n",
    "rfc_prediction_train = rfc.predict(X_train)\n",
    "rfc_prediction_test = rfc.predict(X_test)"
   ]
  },
  {
   "cell_type": "code",
   "execution_count": 208,
   "metadata": {},
   "outputs": [],
   "source": [
    "# Save Information\n",
    "rfc_model_results = ModelWithCV(\n",
    "                        model=rfc,\n",
    "                        model_name='Random Forest Classifier',\n",
    "                        X=X_train, \n",
    "                        y=y_train)"
   ]
  },
  {
   "cell_type": "markdown",
   "metadata": {},
   "source": [
    "Evaluate Model"
   ]
  },
  {
   "cell_type": "code",
   "execution_count": 209,
   "metadata": {},
   "outputs": [
    {
     "data": {
      "text/plain": [
       "array([[15790,    74,   285],\n",
       "       [  699,  1263,   181],\n",
       "       [  884,    60, 10464]], dtype=int64)"
      ]
     },
     "execution_count": 209,
     "metadata": {},
     "output_type": "execute_result"
    }
   ],
   "source": [
    "#Evaluate(y_test, rfc_prediction_test, rfc)\n",
    "#confusion_matrix(y_train, rfc_prediction_train)"
   ]
  },
  {
   "cell_type": "code",
   "execution_count": 210,
   "metadata": {},
   "outputs": [
    {
     "name": "stdout",
     "output_type": "stream",
     "text": [
      "Training Metrics\n",
      "Model: RandomForestClassifier(min_samples_split=8, n_estimators=500)\n",
      "Accuracy: 0.9264983164983165\n",
      "F1-Score: 0.8641686929592242\n",
      "Precision: 0.9234422733328991\n",
      "Recall: 0.8281270941706819\n",
      "\n",
      "Training Cross Val Score\n",
      "[0.49410774 0.49646465 0.49360269 0.50016835 0.49107744]\n",
      "\n",
      "Testing Metrics\n",
      "Model: simple_logreg_model\n",
      "Accuracy: 0.8004377104377104\n",
      "F1-Score: 0.6815955085555426\n",
      "Precision: 0.7388070005016617\n",
      "Recall: 0.6557502782626199\n",
      "\n",
      "Testing Cross Val Score\n",
      "[0.79646465 0.79360269 0.79057239 0.79713805 0.79949495]\n"
     ]
    }
   ],
   "source": [
    "PrintEvaluation(y_train, y_test, X_train, X_test, rfc_prediction_train, rfc_prediction_test, rfc)"
   ]
  },
  {
   "cell_type": "markdown",
   "metadata": {},
   "source": [
    "4th Model: Decision Tree Classifier"
   ]
  },
  {
   "cell_type": "code",
   "execution_count": 211,
   "metadata": {
    "scrolled": true
   },
   "outputs": [],
   "source": [
    "#instantiate model\n",
    "dtc = DecisionTreeClassifier(criterion='entropy')\n",
    "\n",
    "#fit model\n",
    "dtc.fit(X_train, y_train)\n",
    "\n",
    "#make predictions\n",
    "dtc_predictions_train = dtc.predict(X_train)\n",
    "dtc_predictions_test = dtc.predict(X_test)"
   ]
  },
  {
   "cell_type": "code",
   "execution_count": 212,
   "metadata": {},
   "outputs": [],
   "source": [
    "# Save Information\n",
    "dtc_model_results = ModelWithCV(\n",
    "                        model=dummy_model,\n",
    "                        model_name='dummy',\n",
    "                        X=X_train, \n",
    "                        y=y_train)"
   ]
  },
  {
   "cell_type": "markdown",
   "metadata": {},
   "source": [
    "Evaluate Model"
   ]
  },
  {
   "cell_type": "code",
   "execution_count": 213,
   "metadata": {},
   "outputs": [
    {
     "name": "stdout",
     "output_type": "stream",
     "text": [
      "Training Metrics\n",
      "Model: DecisionTreeClassifier(criterion='entropy')\n",
      "Accuracy: 0.997037037037037\n",
      "F1-Score: 0.9931803680070402\n",
      "Precision: 0.9948372520216977\n",
      "Recall: 0.9915452017401787\n",
      "\n",
      "Training Cross Val Score\n",
      "[0.44225589 0.44292929 0.4506734  0.44983165 0.44747475]\n",
      "\n",
      "Testing Metrics\n",
      "Model: simple_logreg_model\n",
      "Accuracy: 0.7454208754208754\n",
      "F1-Score: 0.6422453162551603\n",
      "Precision: 0.640876535251733\n",
      "Recall: 0.6436755174861489\n",
      "\n",
      "Testing Cross Val Score\n",
      "[0.74276094 0.74444444 0.72878788 0.73434343 0.73047138]\n"
     ]
    }
   ],
   "source": [
    "PrintEvaluation(y_train, y_test, X_train, X_test, dtc_predictions_train, dtc_predictions_test, dtc)"
   ]
  },
  {
   "cell_type": "markdown",
   "metadata": {},
   "source": [
    "Feature importance"
   ]
  },
  {
   "cell_type": "code",
   "execution_count": 214,
   "metadata": {
    "scrolled": true
   },
   "outputs": [],
   "source": [
    "# Feature importance\n",
    "#dtc.feature_importances_"
   ]
  },
  {
   "cell_type": "markdown",
   "metadata": {},
   "source": [
    "Plot the decision tree"
   ]
  },
  {
   "cell_type": "code",
   "execution_count": 215,
   "metadata": {
    "scrolled": true
   },
   "outputs": [],
   "source": [
    "#fig, axes = plt.subplots(nrows = 1,ncols = 1, figsize = (3,3), dpi=300)\n",
    "#tree.plot_tree(dtc,\n",
    "#               feature_names = data.columns, \n",
    "#               class_names=np.unique(y).astype('str'),\n",
    "#               filled = True)\n",
    "#plt.show()"
   ]
  },
  {
   "cell_type": "markdown",
   "metadata": {},
   "source": [
    "5th Model: Bagged Trees"
   ]
  },
  {
   "cell_type": "code",
   "execution_count": 216,
   "metadata": {},
   "outputs": [],
   "source": [
    "# Instantiate a BaggingClassifier\n",
    "bagged_tree =  BaggingClassifier(DecisionTreeClassifier(criterion='gini', max_depth=5), \n",
    "                                 n_estimators=20)\n",
    "\n",
    "# Fit to the training data\n",
    "bagged_tree.fit(X_scaled_train, y_train)\n",
    "\n",
    "# Make Predictions\n",
    "bagged_tree_predictions_train = bagged_tree.predict(X_scaled_train)\n",
    "bagged_tree_predictions_test = bagged_tree.predict(X_scaled_test)"
   ]
  },
  {
   "cell_type": "code",
   "execution_count": 217,
   "metadata": {},
   "outputs": [],
   "source": [
    "# Save Information\n",
    "bagged_tree_model_results = ModelWithCV(\n",
    "                        model=dummy_model,\n",
    "                        model_name='dummy',\n",
    "                        X=X_train, \n",
    "                        y=y_train)"
   ]
  },
  {
   "cell_type": "markdown",
   "metadata": {},
   "source": [
    "Evaluate the Model"
   ]
  },
  {
   "cell_type": "code",
   "execution_count": 218,
   "metadata": {},
   "outputs": [
    {
     "name": "stdout",
     "output_type": "stream",
     "text": [
      "Training Metrics\n",
      "Model: BaggingClassifier(base_estimator=DecisionTreeClassifier(max_depth=5),\n",
      "                  n_estimators=20)\n",
      "Accuracy: 0.7147138047138047\n",
      "F1-Score: 0.5054846994384254\n",
      "Precision: 0.7176038314934585\n",
      "Recall: 0.5021809554099562\n",
      "\n",
      "Training Cross Val Score\n",
      "[0.54259259 0.54225589 0.54158249 0.54276094 0.54208754]\n",
      "\n",
      "Testing Metrics\n",
      "Model: simple_logreg_model\n",
      "Accuracy: 0.6922222222222222\n",
      "F1-Score: 0.5096219594642347\n",
      "Precision: 0.6253718379963326\n",
      "Recall: 0.4993226025899993\n",
      "\n",
      "Testing Cross Val Score\n",
      "[0.70757576 0.70218855 0.70858586 0.71885522 0.70909091]\n"
     ]
    }
   ],
   "source": [
    "PrintEvaluation(y_train, y_test, X_train, X_test,\n",
    "                bagged_tree_predictions_train, bagged_tree_predictions_test, bagged_tree)"
   ]
  },
  {
   "cell_type": "markdown",
   "metadata": {},
   "source": [
    "6th Model: Random forests"
   ]
  },
  {
   "cell_type": "code",
   "execution_count": 242,
   "metadata": {},
   "outputs": [],
   "source": [
    "# Instantiate  RandomForestClassifier\n",
    "forest = RandomForestClassifier(n_estimators=10, max_depth= 15)\n",
    "\n",
    "# fit a RandomForestClassifier\n",
    "forest.fit(X_scaled_train, y_train)\n",
    "\n",
    "# make Predictions\n",
    "forest_train_prediction = forest.predict(X_scaled_train)\n",
    "forest_test_prediction = forest.predict(X_scaled_test)"
   ]
  },
  {
   "cell_type": "code",
   "execution_count": 220,
   "metadata": {},
   "outputs": [],
   "source": [
    "# Save Information\n",
    "Random_Forests_model_results = ModelWithCV(\n",
    "                        model=forest,\n",
    "                        model_name='dummy',\n",
    "                        X=X_train, \n",
    "                        y=y_train)"
   ]
  },
  {
   "cell_type": "markdown",
   "metadata": {},
   "source": [
    "Evaluate"
   ]
  },
  {
   "cell_type": "code",
   "execution_count": 243,
   "metadata": {},
   "outputs": [
    {
     "name": "stdout",
     "output_type": "stream",
     "text": [
      "Training Metrics\n",
      "Model: RandomForestClassifier(max_depth=15, n_estimators=10)\n",
      "Accuracy: 0.8817845117845118\n",
      "F1-Score: 0.8068529432028665\n",
      "Precision: 0.9033609557800872\n",
      "Recall: 0.7612616713807151\n",
      "\n",
      "Training Cross Val Score\n",
      "[0.52626263 0.52643098 0.52828283 0.52643098 0.53131313]\n",
      "\n",
      "Testing Metrics\n",
      "Model: simple_logreg_model\n",
      "Accuracy: 0.7344107744107744\n",
      "F1-Score: 0.5743104690742362\n",
      "Precision: 0.6936947048132912\n",
      "Recall: 0.5523432917544999\n",
      "\n",
      "Testing Cross Val Score\n",
      "[0.77323232 0.77188552 0.77542088 0.77794613 0.78080808]\n"
     ]
    }
   ],
   "source": [
    "PrintEvaluation(y_train, y_test, X_scaled_train, X_scaled_test,\n",
    "                forest_train_prediction, forest_test_prediction , forest)"
   ]
  },
  {
   "cell_type": "code",
   "execution_count": 222,
   "metadata": {},
   "outputs": [],
   "source": [
    "#plot_feature_importances(forest)"
   ]
  },
  {
   "cell_type": "markdown",
   "metadata": {},
   "source": [
    "Look at the trees in your forest"
   ]
  },
  {
   "cell_type": "code",
   "execution_count": 223,
   "metadata": {},
   "outputs": [],
   "source": [
    "# Instantiate  a RandomForestClassifier\n",
    "#forest_2 = RandomForestClassifier(n_estimators = 5, max_features= 10, max_depth= 2)\n",
    "\n",
    "#  fit a RandomForestClassifier\n",
    "#forest_2.fit(X_scaled_test, y_test)"
   ]
  },
  {
   "cell_type": "code",
   "execution_count": 224,
   "metadata": {},
   "outputs": [],
   "source": [
    "# First tree from forest_2\n",
    "#rf_tree_1 = forest_2.estimators_[0]"
   ]
  },
  {
   "cell_type": "code",
   "execution_count": 225,
   "metadata": {},
   "outputs": [],
   "source": [
    "# Feature importance\n",
    "#plot_feature_importances(rf_tree_1)"
   ]
  },
  {
   "cell_type": "code",
   "execution_count": 226,
   "metadata": {},
   "outputs": [],
   "source": [
    "# Second tree from forest_2\n",
    "#rf_tree_2 = forest_2.estimators_[1]"
   ]
  },
  {
   "cell_type": "code",
   "execution_count": 227,
   "metadata": {},
   "outputs": [],
   "source": [
    "# Feature importance\n",
    "#plot_feature_importances(rf_tree_2)"
   ]
  },
  {
   "cell_type": "markdown",
   "metadata": {},
   "source": [
    "Evaluate"
   ]
  },
  {
   "cell_type": "markdown",
   "metadata": {},
   "source": [
    "Weak Learners"
   ]
  },
  {
   "cell_type": "markdown",
   "metadata": {},
   "source": [
    "7th Model: AdaBoostClassifier"
   ]
  },
  {
   "cell_type": "code",
   "execution_count": 228,
   "metadata": {},
   "outputs": [],
   "source": [
    "# Instantiate an AdaBoostClassifier\n",
    "adaboost_clf = AdaBoostClassifier(random_state=42)\n",
    "\n",
    "# Fit the models\n",
    "adaboost_clf.fit(X_train, y_train)\n",
    "\n",
    "# AdaBoost model predictions\n",
    "adaboost_train_preds = adaboost_clf.predict(X_train)\n",
    "adaboost_test_preds = adaboost_clf.predict(X_test)"
   ]
  },
  {
   "cell_type": "code",
   "execution_count": 229,
   "metadata": {},
   "outputs": [],
   "source": [
    "# Save Information\n",
    "AdaBoost_model_results = ModelWithCV(\n",
    "                        model=dummy_model,\n",
    "                        model_name='dummy',\n",
    "                        X=X_train, \n",
    "                        y=y_train)"
   ]
  },
  {
   "cell_type": "markdown",
   "metadata": {},
   "source": [
    "Evaluate the Model"
   ]
  },
  {
   "cell_type": "code",
   "execution_count": 230,
   "metadata": {},
   "outputs": [
    {
     "name": "stdout",
     "output_type": "stream",
     "text": [
      "Training Metrics\n",
      "Model: AdaBoostClassifier(random_state=42)\n",
      "Accuracy: 0.7149831649831649\n",
      "F1-Score: 0.511089385108986\n",
      "Precision: 0.6526855030212608\n",
      "Recall: 0.5079811207360851\n",
      "\n",
      "Training Cross Val Score\n",
      "[0.54309764 0.54309764 0.54225589 0.54124579 0.54074074]\n",
      "\n",
      "Testing Metrics\n",
      "Model: simple_logreg_model\n",
      "Accuracy: 0.7161616161616161\n",
      "F1-Score: 0.512649009520762\n",
      "Precision: 0.6649707101849494\n",
      "Recall: 0.5099027504312733\n",
      "\n",
      "Testing Cross Val Score\n",
      "[0.71632997 0.71313131 0.71329966 0.72794613 0.71498316]\n"
     ]
    }
   ],
   "source": [
    "PrintEvaluation(y_train, y_test, X_train, X_test,\n",
    "                adaboost_train_preds, adaboost_test_preds , adaboost_clf)"
   ]
  },
  {
   "cell_type": "code",
   "execution_count": 231,
   "metadata": {},
   "outputs": [],
   "source": [
    "#adaboost_confusion_matrix = confusion_matrix(y_test, adaboost_test_preds)\n",
    "#adaboost_confusion_matrix"
   ]
  },
  {
   "cell_type": "code",
   "execution_count": 232,
   "metadata": {},
   "outputs": [],
   "source": [
    "#adaboost_classification_report = classification_report(y_test, adaboost_test_preds)\n",
    "#print(adaboost_classification_report)"
   ]
  },
  {
   "cell_type": "markdown",
   "metadata": {},
   "source": [
    "8th Model: GradientBoostingClassifier"
   ]
  },
  {
   "cell_type": "code",
   "execution_count": 233,
   "metadata": {},
   "outputs": [],
   "source": [
    "# Instantiate an GradientBoostingClassifier\n",
    "gbt_clf = GradientBoostingClassifier(random_state=42)\n",
    "\n",
    "# Fit the models\n",
    "gbt_clf.fit(X_train, y_train)\n",
    "\n",
    "# GradientBoosting model predictions\n",
    "gbt_clf_train_preds = gbt_clf.predict(X_train)\n",
    "gbt_clf_test_preds = gbt_clf.predict(X_test)"
   ]
  },
  {
   "cell_type": "code",
   "execution_count": 234,
   "metadata": {},
   "outputs": [],
   "source": [
    "# Save Information\n",
    "GradientBoostingClassifier_model_results = ModelWithCV(\n",
    "                        model=dummy_model,\n",
    "                        model_name='dummy',\n",
    "                        X=X_train, \n",
    "                        y=y_train)"
   ]
  },
  {
   "cell_type": "markdown",
   "metadata": {},
   "source": [
    "Evaluate the Model"
   ]
  },
  {
   "cell_type": "code",
   "execution_count": 235,
   "metadata": {},
   "outputs": [
    {
     "name": "stdout",
     "output_type": "stream",
     "text": [
      "Training Metrics\n",
      "Model: GradientBoostingClassifier(random_state=42)\n",
      "Accuracy: 0.7523905723905724\n",
      "F1-Score: 0.5800240444284713\n",
      "Precision: 0.74501847205463\n",
      "Recall: 0.5592450912633624\n",
      "\n",
      "Training Cross Val Score\n",
      "[0.54090909 0.54309764 0.54006734 0.53973064 0.53989899]\n",
      "\n",
      "Testing Metrics\n",
      "Model: simple_logreg_model\n",
      "Accuracy: 0.7456228956228956\n",
      "F1-Score: 0.5753571170220589\n",
      "Precision: 0.7259104767101037\n",
      "Recall: 0.5553569988564615\n",
      "\n",
      "Testing Cross Val Score\n",
      "[0.7479798  0.74208754 0.746633   0.75319865 0.73804714]\n"
     ]
    }
   ],
   "source": [
    "PrintEvaluation(y_train, y_test, X_train, X_test,\n",
    "                gbt_clf_train_preds, gbt_clf_test_preds , gbt_clf)"
   ]
  },
  {
   "cell_type": "code",
   "execution_count": 236,
   "metadata": {},
   "outputs": [],
   "source": [
    "#gbt_confusion_matrix = confusion_matrix(y_test, gbt_clf_test_preds)\n",
    "#gbt_confusion_matrix"
   ]
  },
  {
   "cell_type": "code",
   "execution_count": 237,
   "metadata": {},
   "outputs": [],
   "source": [
    "#gbt_classification_report = classification_report(y_test, gbt_clf_test_preds)\n",
    "#print(gbt_classification_report)"
   ]
  },
  {
   "cell_type": "markdown",
   "metadata": {},
   "source": [
    "9th Model: KNeighborsClassifier"
   ]
  },
  {
   "cell_type": "code",
   "execution_count": 239,
   "metadata": {},
   "outputs": [],
   "source": [
    "# Instantiate KNeighborsClassifier\n",
    "KNC = KNeighborsClassifier()\n",
    "\n",
    "# Fit the classifier\n",
    "KNC.fit(X_scaled_train, y_train)\n",
    "\n",
    "# Predict on the test set\n",
    "KNC_prediction_train = KNC.predict(X_scaled_test)\n",
    "KNC_prediction_test = KNC.predict(X_scaled_test)"
   ]
  },
  {
   "cell_type": "code",
   "execution_count": null,
   "metadata": {},
   "outputs": [],
   "source": [
    "# Save Information\n",
    "KNeighborsClassifier_model_results = ModelWithCV(\n",
    "                        model=KNC,\n",
    "                        model_name=KNeighborsClassifier,\n",
    "                        X=X_scaled_train, \n",
    "                        y=y_train)"
   ]
  },
  {
   "cell_type": "markdown",
   "metadata": {},
   "source": [
    "Evaluate Model"
   ]
  },
  {
   "cell_type": "code",
   "execution_count": 240,
   "metadata": {},
   "outputs": [
    {
     "name": "stdout",
     "output_type": "stream",
     "text": [
      "Training Metrics\n",
      "Model: KNeighborsClassifier()\n",
      "Accuracy: 0.46114478114478114\n",
      "F1-Score: 0.3293098285571336\n",
      "Precision: 0.3309834386969518\n",
      "Recall: 0.33077503137588643\n",
      "\n",
      "Training Cross Val Score\n",
      "[0.47777778 0.49545455 0.49343434 0.49579125 0.48164983]\n",
      "\n",
      "Testing Metrics\n",
      "Model: simple_logreg_model\n",
      "Accuracy: 0.7488215488215488\n",
      "F1-Score: 0.6301863336615193\n",
      "Precision: 0.660779368879722\n",
      "Recall: 0.6132580183380363\n",
      "\n",
      "Testing Cross Val Score\n",
      "[0.75117845 0.74242424 0.74191919 0.7523569  0.74646465]\n"
     ]
    }
   ],
   "source": [
    "PrintEvaluation(y_train, y_test, X_scaled_train, X_scaled_test,\n",
    "                KNC_prediction_train, KNC_prediction_test , KNC)"
   ]
  },
  {
   "cell_type": "markdown",
   "metadata": {},
   "source": [
    "Improve model performance"
   ]
  },
  {
   "cell_type": "code",
   "execution_count": null,
   "metadata": {},
   "outputs": [],
   "source": [
    "find_best_k(X_scaled_train, y_train, X_scaled_test, y_test)"
   ]
  },
  {
   "cell_type": "markdown",
   "metadata": {},
   "source": [
    "10th Model: Improved using 'K' learned above"
   ]
  },
  {
   "cell_type": "code",
   "execution_count": null,
   "metadata": {},
   "outputs": [],
   "source": [
    "# Instantiate KNeighborsClassifier\n",
    "KNC2 = KNeighborsClassifier(n_neighbors=3)\n",
    "\n",
    "# Fit the classifier\n",
    "KNC.fit(X_scaled_train, y_train)\n",
    "\n",
    "# Predict on the test set\n",
    "KNC2_prediction_train = clf.predict(X_scaled_train)\n",
    "KNC2_prediction_test = clf.predict(X_scaled_test)"
   ]
  },
  {
   "cell_type": "code",
   "execution_count": null,
   "metadata": {},
   "outputs": [],
   "source": [
    "# Save Information\n",
    "KNC2_model_results = ModelWithCV(\n",
    "                        model=dummy_model,\n",
    "                        model_name='dummy',\n",
    "                        X=X_train, \n",
    "                        y=y_train)"
   ]
  },
  {
   "cell_type": "markdown",
   "metadata": {},
   "source": [
    "Evaluate"
   ]
  },
  {
   "cell_type": "code",
   "execution_count": null,
   "metadata": {},
   "outputs": [],
   "source": [
    "PrintEvaluation(y_train, y_test, X_scaled_train, X_scaled_test,\n",
    "                KNC2_prediction_train, KNC2_prediction_test , KNC2)"
   ]
  },
  {
   "cell_type": "markdown",
   "metadata": {},
   "source": [
    "Models Compared"
   ]
  },
  {
   "cell_type": "markdown",
   "metadata": {},
   "source": [
    "Conclusion\n",
    "Buisness Understanding"
   ]
  },
  {
   "cell_type": "code",
   "execution_count": null,
   "metadata": {},
   "outputs": [],
   "source": []
  }
 ],
 "metadata": {
  "kernelspec": {
   "display_name": "Python 3",
   "language": "python",
   "name": "python3"
  },
  "language_info": {
   "codemirror_mode": {
    "name": "ipython",
    "version": 3
   },
   "file_extension": ".py",
   "mimetype": "text/x-python",
   "name": "python",
   "nbconvert_exporter": "python",
   "pygments_lexer": "ipython3",
   "version": "3.8.5"
  }
 },
 "nbformat": 4,
 "nbformat_minor": 4
}
