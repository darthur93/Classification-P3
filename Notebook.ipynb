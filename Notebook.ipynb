{
 "cells": [
  {
   "cell_type": "markdown",
   "metadata": {},
   "source": [
    "Project 3: Classification\n",
    "Daniel Arthur"
   ]
  },
  {
   "cell_type": "markdown",
   "metadata": {},
   "source": [
    "Index:\n",
    "Business Understanding: Notebook clearly explains the project’s value for helping a specific stakeholder solve a real-world problem.\n",
    "    \n",
    "    Introduction explains the real-world problem the project aims to solve\n",
    "    Introduction identifies stakeholders who could use the project and how they would use it\n",
    "    Conclusion summarizes implications of the project for the real-world problem and stakeholders \n",
    "\n",
    "\n",
    "Data Understanding:  Notebook clearly describes the source and properties of the data to show how useful the data are for solving the problem of interest\n",
    "\n",
    "      Describe the data sources and explain why the data are suitable for the project\n",
    "    Present the size of the dataset and descriptive statistics for all features used in the analysis\n",
    "    Justify the inclusion of features based on their properties and relevance for the project\n",
    "    Identify any limitations of the data that have implications for the project\n",
    "\n",
    "\n",
    "Data Preparation: Notebook shows how you prepare your data and explains why by including\n",
    "\n",
    "    Instructions or code needed to get and prepare the raw data for analysis\n",
    "    Code comments and text to explain what your data preparation code does\n",
    "    Valid justifications for why the steps you took are appropriate for the problem you are solving\n",
    "\n",
    "\n",
    "Modeling: Notebook demonstrates an iterative approach to model-building.\n",
    "\n",
    "    Runs and interprets a simple, baseline model for comparison\n",
    "    Introduces new models that improve on prior models and interprets their results\n",
    "    Explicitly justifies model changes based on the results of prior models and the problem context\n",
    "    Explicitly describes any improvements found from running new models\n",
    "\n",
    "\n",
    "\n",
    "Evaluation: Notebook shows how well a final model solves the real-world problem.\n",
    "\n",
    "    Justifies choice of metrics using context of the real-world problem and consequences of errors\n",
    "    Identifies one final model based on performance on the chosen metrics with validation data\n",
    "    Evaluates the performance of the final model using holdout test data\n",
    "    Discusses implications of the final model evaluation for solving the real-world problem\n"
   ]
  },
  {
   "cell_type": "markdown",
   "metadata": {},
   "source": [
    "Code Quality: Code in notebook and related files meets professional standards \n",
    "    Code is easy to read, using comments, spacing, variable names, and function docstrings\n",
    "    All code runs and no code or comments are included that are not needed for the project \n",
    "    Code minimizes repetition, using loops, functions, and classes\n",
    "    Code adapted from others is properly cited with author names and location of the cited material\n"
   ]
  },
  {
   "cell_type": "code",
   "execution_count": null,
   "metadata": {},
   "outputs": [],
   "source": []
  }
 ],
 "metadata": {
  "kernelspec": {
   "display_name": "Python 3",
   "language": "python",
   "name": "python3"
  },
  "language_info": {
   "codemirror_mode": {
    "name": "ipython",
    "version": 3
   },
   "file_extension": ".py",
   "mimetype": "text/x-python",
   "name": "python",
   "nbconvert_exporter": "python",
   "pygments_lexer": "ipython3",
   "version": "3.8.5"
  }
 },
 "nbformat": 4,
 "nbformat_minor": 4
}
