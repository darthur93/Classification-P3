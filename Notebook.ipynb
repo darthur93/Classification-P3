{
 "cells": [
  {
   "cell_type": "markdown",
   "metadata": {},
   "source": [
    "# Project 3: Classification\n",
    "Daniel Arthur"
   ]
  },
  {
   "cell_type": "markdown",
   "metadata": {},
   "source": [
    "Introduction and Buisness Understanding/"
   ]
  },
  {
   "cell_type": "markdown",
   "metadata": {},
   "source": [
    "Climate change has increased water insecurity. This problem has an outsized effect in Tanzania. I will create a model to predict the functionality of wells in Tanzania. This infomation can then be used to guide action to mitigate problems and improve water access. The stakeholders is the Wells of Life Charity. They are located north of Tanzania in Uganda. Their close proximity is ideal, since it reduces cost of resource distribution. "
   ]
  },
  {
   "cell_type": "markdown",
   "metadata": {},
   "source": [
    "Importing the necessary libraries"
   ]
  },
  {
   "cell_type": "code",
   "execution_count": 1,
   "metadata": {},
   "outputs": [],
   "source": [
    "import pandas as pd\n",
    "import numpy as np\n",
    "import seaborn as sns\n",
    "import matplotlib.pyplot as plt\n",
    "%matplotlib inline\n",
    "\n",
    "import statsmodels.api as sm\n",
    "import statsmodels.formula.api as smf\n",
    "from sklearn.ensemble import ExtraTreesClassifier, VotingClassifier, StackingRegressor\n",
    "\n",
    "from sklearn.preprocessing import OneHotEncoder, StandardScaler\n",
    "\n",
    "from sklearn.impute import MissingIndicator, SimpleImputer\n",
    "\n",
    "from sklearn.dummy import DummyClassifier\n",
    "from sklearn.linear_model import LogisticRegression\n",
    "from sklearn.ensemble import RandomForestClassifier\n",
    "from sklearn.tree import DecisionTreeClassifier \n",
    "from sklearn import tree\n",
    "from sklearn.neighbors import KNeighborsClassifier\n",
    "from sklearn.svm import SVC\n",
    "from sklearn.ensemble import BaggingClassifier\n",
    "from sklearn.datasets import make_classification\n",
    "from sklearn.model_selection import train_test_split, cross_val_score\n",
    "from sklearn.feature_selection import SelectFromModel\n",
    "from sklearn.ensemble import AdaBoostClassifier, GradientBoostingClassifier\n",
    "from sklearn.metrics import accuracy_score, f1_score, confusion_matrix, classification_report, balanced_accuracy_score\n",
    "from sklearn.metrics import precision_score, recall_score\n",
    "# plot_confusion_matrix is a handy visual tool, added in the latest version of scikit-learn\n",
    "# if you are running an older version, comment out this line and just use confusion_matrix\n",
    "from sklearn.metrics import plot_confusion_matrix\n",
    "from sklearn.metrics import confusion_matrix\n",
    "from sklearn.metrics import plot_roc_curve"
   ]
  },
  {
   "cell_type": "markdown",
   "metadata": {},
   "source": [
    "Functions"
   ]
  },
  {
   "cell_type": "code",
   "execution_count": 2,
   "metadata": {},
   "outputs": [],
   "source": [
    "def Evaluate(true, preds, model_name):\n",
    "    acc = accuracy_score(true, preds)\n",
    "    f1 = f1_score(true, preds, average = 'macro')\n",
    "    prec = precision_score(true, preds, average = 'macro')\n",
    "    rec = recall_score(true, preds, average = 'macro')\n",
    "    \n",
    "    print(\"Model: {}\".format(model_name))\n",
    "    print(\"Accuracy: {}\".format(acc))\n",
    "    print(\"F1-Score: {}\".format(f1))\n",
    "    print('Precision: {}'.format(prec))\n",
    "    print('Recall: {}'.format(rec))"
   ]
  },
  {
   "cell_type": "code",
   "execution_count": 3,
   "metadata": {},
   "outputs": [],
   "source": [
    "def PrintEvaluation(y_train, y_test, X_train, X_test, train_preds, test_preds, model):\n",
    "    print(\"Training Metrics\")\n",
    "    Evaluate(y_train, train_preds, model)\n",
    "    print(\"\")\n",
    "    \n",
    "    print('Training Cross Val Score')\n",
    "    print(cross_val_score(model, X_train, y_train, cv=5))\n",
    "    print(\"\")\n",
    "    \n",
    "    print(\"Testing Metrics\")\n",
    "    Evaluate(y_test, test_preds, model)\n",
    "    print(\"\")\n",
    "    \n",
    "    print('Testing Cross Val Score')\n",
    "    print(cross_val_score(model, X_test, y_test, cv=5))"
   ]
  },
  {
   "cell_type": "code",
   "execution_count": 4,
   "metadata": {},
   "outputs": [],
   "source": [
    "class ModelWithCV():\n",
    "    '''Structure to save the model and more easily see its crossvalidation'''\n",
    "    \n",
    "    def __init__(self, model, model_name, X, y, cv_now=True):\n",
    "        self.model = model\n",
    "        self.name = model_name\n",
    "        self.X = X\n",
    "        self.y = y\n",
    "        # For CV results\n",
    "        self.cv_results = None\n",
    "        self.cv_mean = None\n",
    "        self.cv_median = None\n",
    "        self.cv_std = None\n",
    "        #\n",
    "        if cv_now:\n",
    "            self.cross_validate()\n",
    "        \n",
    "    def cross_validate(self, X=None, y=None, kfolds=10):\n",
    "        '''\n",
    "        Perform cross-validation and return results.\n",
    "        \n",
    "        Args: \n",
    "          X:\n",
    "            Optional; Training data to perform CV on. Otherwise use X from object\n",
    "          y:\n",
    "            Optional; Training data to perform CV on. Otherwise use y from object\n",
    "          kfolds:\n",
    "            Optional; Number of folds for CV (default is 10)  \n",
    "        '''\n",
    "        \n",
    "        cv_X = X if X else self.X\n",
    "        cv_y = y if y else self.y\n",
    "\n",
    "        self.cv_results = cross_val_score(self.model, cv_X, cv_y, cv=kfolds)\n",
    "        self.cv_mean = np.mean(self.cv_results)\n",
    "        self.cv_median = np.median(self.cv_results)\n",
    "        self.cv_std = np.std(self.cv_results)\n",
    "\n",
    "        \n",
    "    def print_cv_summary(self):\n",
    "        cv_summary = (\n",
    "        f'''CV Results for `{self.name}` model:\n",
    "            {self.cv_mean:.5f} ± {self.cv_std:.5f} accuracy\n",
    "        ''')\n",
    "        print(cv_summary)\n",
    "\n",
    "        \n",
    "    def plot_cv(self, ax):\n",
    "        '''\n",
    "        Plot the cross-validation values using the array of results and given \n",
    "        Axis for plotting.\n",
    "        '''\n",
    "        ax.set_title(f'CV Results for `{self.name}` Model')\n",
    "        # Thinner violinplot with higher bw\n",
    "        sns.violinplot(y=self.cv_results, ax=ax, bw=.4)\n",
    "        sns.swarmplot(\n",
    "                y=self.cv_results,\n",
    "                color='orange',\n",
    "                size=10,\n",
    "                alpha= 0.8,\n",
    "                ax=ax\n",
    "        )\n",
    "\n",
    "        return ax"
   ]
  },
  {
   "cell_type": "code",
   "execution_count": 5,
   "metadata": {},
   "outputs": [],
   "source": [
    "def plot_feature_importances(model):\n",
    "    n_features = X_train.shape[1]\n",
    "    plt.figure(figsize=(8,8))\n",
    "    plt.barh(range(n_features), model.feature_importances_, align='center') \n",
    "    plt.yticks(np.arange(n_features), X_train.columns.values) \n",
    "    plt.xlabel('Feature importance')\n",
    "    plt.ylabel('Feature')"
   ]
  },
  {
   "cell_type": "code",
   "execution_count": 6,
   "metadata": {},
   "outputs": [],
   "source": [
    "def find_best_k(X_train, y_train, X_test, y_test, min_k=1, max_k=25):\n",
    "    best_k = 0\n",
    "    best_score = 0.0\n",
    "    for k in range(min_k, max_k+1, 2):\n",
    "        knn = KNeighborsClassifier(n_neighbors=k)\n",
    "        knn.fit(X_train, y_train)\n",
    "        preds = knn.predict(X_test)\n",
    "        f1 = f1_score(y_test, preds, average = 'micro')\n",
    "        if f1 > best_score:\n",
    "            best_k = k\n",
    "            best_score = f1\n",
    "    \n",
    "    print(\"Best Value for k: {}\".format(best_k))\n",
    "    print(\"F1-Score: {}\".format(best_score))"
   ]
  },
  {
   "cell_type": "markdown",
   "metadata": {},
   "source": [
    "Importing the data that will be used.\n",
    "\n",
    "\n",
    "The Data contains records of over 50,000 wells in Tanzania. "
   ]
  },
  {
   "cell_type": "markdown",
   "metadata": {},
   "source": [
    "Columns Info\n",
    "\n",
    "amount_tsh - Total static head (amount water available to waterpoint)\\\n",
    "date_recorded - The date the row was entered\\\n",
    "funder - Who funded the well\\\n",
    "gps_height - Altitude of the well\\\n",
    "installer - Organization that installed the well\\\n",
    "longitude - GPS coordinate\\\n",
    "latitude - GPS coordinate\\\n",
    "wpt_name - Name of the waterpoint if there is one\\\n",
    "num_private -\\\n",
    "basin - Geographic water basin\\\n",
    "subvillage - Geographic location\\\n",
    "region - Geographic location\\\n",
    "region_code - Geographic location (coded)\\\n",
    "district_code - Geographic location (coded)\\\n",
    "lga - Geographic location\\\n",
    "ward - Geographic location\\\n",
    "population - Population around the well\\\n",
    "public_meeting - True/False\\\n",
    "recorded_by - Group entering this row of data\\\n",
    "scheme_management - Who operates the waterpoint\\\n",
    "scheme_name - Who operates the waterpoint\\\n",
    "permit - If the waterpoint is permitted\\\n",
    "construction_year - Year the waterpoint was constructed\\\n",
    "extraction_type - The kind of extraction the waterpoint uses\\\n",
    "extraction_type_group - The kind of extraction the waterpoint uses\\\n",
    "extraction_type_class - The kind of extraction the waterpoint uses\\\n",
    "management - How the waterpoint is managed\\\n",
    "management_group - How the waterpoint is managed\\\n",
    "payment - What the water costs\\\n",
    "payment_type - What the water costs\\\n",
    "water_quality - The quality of the water\\\n",
    "quality_group - The quality of the water\\\n",
    "quantity - The quantity of water\\\n",
    "quantity_group - The quantity of water\\\n",
    "source - The source of the water\\\n",
    "source_type - The source of the water\\\n",
    "source_class - The source of the water\\\n",
    "waterpoint_type - The kind of waterpoint\\\n",
    "waterpoint_type_group - The kind of waterpoint"
   ]
  },
  {
   "cell_type": "code",
   "execution_count": 7,
   "metadata": {},
   "outputs": [],
   "source": [
    "data_labels = pd.read_csv('Training_Set_Values.csv')\n",
    "data_values = pd.read_csv('Training_Set_Labels.csv')\n",
    "data = data_values.merge(data_labels, on='id')"
   ]
  },
  {
   "cell_type": "markdown",
   "metadata": {},
   "source": [
    "Just get a brief glance of what the data looks like."
   ]
  },
  {
   "cell_type": "code",
   "execution_count": 8,
   "metadata": {
    "scrolled": true
   },
   "outputs": [
    {
     "data": {
      "text/html": [
       "<div>\n",
       "<style scoped>\n",
       "    .dataframe tbody tr th:only-of-type {\n",
       "        vertical-align: middle;\n",
       "    }\n",
       "\n",
       "    .dataframe tbody tr th {\n",
       "        vertical-align: top;\n",
       "    }\n",
       "\n",
       "    .dataframe thead th {\n",
       "        text-align: right;\n",
       "    }\n",
       "</style>\n",
       "<table border=\"1\" class=\"dataframe\">\n",
       "  <thead>\n",
       "    <tr style=\"text-align: right;\">\n",
       "      <th></th>\n",
       "      <th>id</th>\n",
       "      <th>status_group</th>\n",
       "      <th>amount_tsh</th>\n",
       "      <th>date_recorded</th>\n",
       "      <th>funder</th>\n",
       "      <th>gps_height</th>\n",
       "      <th>installer</th>\n",
       "      <th>longitude</th>\n",
       "      <th>latitude</th>\n",
       "      <th>wpt_name</th>\n",
       "      <th>...</th>\n",
       "      <th>payment_type</th>\n",
       "      <th>water_quality</th>\n",
       "      <th>quality_group</th>\n",
       "      <th>quantity</th>\n",
       "      <th>quantity_group</th>\n",
       "      <th>source</th>\n",
       "      <th>source_type</th>\n",
       "      <th>source_class</th>\n",
       "      <th>waterpoint_type</th>\n",
       "      <th>waterpoint_type_group</th>\n",
       "    </tr>\n",
       "  </thead>\n",
       "  <tbody>\n",
       "    <tr>\n",
       "      <th>0</th>\n",
       "      <td>69572</td>\n",
       "      <td>functional</td>\n",
       "      <td>6000.0</td>\n",
       "      <td>2011-03-14</td>\n",
       "      <td>Roman</td>\n",
       "      <td>1390</td>\n",
       "      <td>Roman</td>\n",
       "      <td>34.938093</td>\n",
       "      <td>-9.856322</td>\n",
       "      <td>none</td>\n",
       "      <td>...</td>\n",
       "      <td>annually</td>\n",
       "      <td>soft</td>\n",
       "      <td>good</td>\n",
       "      <td>enough</td>\n",
       "      <td>enough</td>\n",
       "      <td>spring</td>\n",
       "      <td>spring</td>\n",
       "      <td>groundwater</td>\n",
       "      <td>communal standpipe</td>\n",
       "      <td>communal standpipe</td>\n",
       "    </tr>\n",
       "    <tr>\n",
       "      <th>1</th>\n",
       "      <td>8776</td>\n",
       "      <td>functional</td>\n",
       "      <td>0.0</td>\n",
       "      <td>2013-03-06</td>\n",
       "      <td>Grumeti</td>\n",
       "      <td>1399</td>\n",
       "      <td>GRUMETI</td>\n",
       "      <td>34.698766</td>\n",
       "      <td>-2.147466</td>\n",
       "      <td>Zahanati</td>\n",
       "      <td>...</td>\n",
       "      <td>never pay</td>\n",
       "      <td>soft</td>\n",
       "      <td>good</td>\n",
       "      <td>insufficient</td>\n",
       "      <td>insufficient</td>\n",
       "      <td>rainwater harvesting</td>\n",
       "      <td>rainwater harvesting</td>\n",
       "      <td>surface</td>\n",
       "      <td>communal standpipe</td>\n",
       "      <td>communal standpipe</td>\n",
       "    </tr>\n",
       "    <tr>\n",
       "      <th>2</th>\n",
       "      <td>34310</td>\n",
       "      <td>functional</td>\n",
       "      <td>25.0</td>\n",
       "      <td>2013-02-25</td>\n",
       "      <td>Lottery Club</td>\n",
       "      <td>686</td>\n",
       "      <td>World vision</td>\n",
       "      <td>37.460664</td>\n",
       "      <td>-3.821329</td>\n",
       "      <td>Kwa Mahundi</td>\n",
       "      <td>...</td>\n",
       "      <td>per bucket</td>\n",
       "      <td>soft</td>\n",
       "      <td>good</td>\n",
       "      <td>enough</td>\n",
       "      <td>enough</td>\n",
       "      <td>dam</td>\n",
       "      <td>dam</td>\n",
       "      <td>surface</td>\n",
       "      <td>communal standpipe multiple</td>\n",
       "      <td>communal standpipe</td>\n",
       "    </tr>\n",
       "    <tr>\n",
       "      <th>3</th>\n",
       "      <td>67743</td>\n",
       "      <td>non functional</td>\n",
       "      <td>0.0</td>\n",
       "      <td>2013-01-28</td>\n",
       "      <td>Unicef</td>\n",
       "      <td>263</td>\n",
       "      <td>UNICEF</td>\n",
       "      <td>38.486161</td>\n",
       "      <td>-11.155298</td>\n",
       "      <td>Zahanati Ya Nanyumbu</td>\n",
       "      <td>...</td>\n",
       "      <td>never pay</td>\n",
       "      <td>soft</td>\n",
       "      <td>good</td>\n",
       "      <td>dry</td>\n",
       "      <td>dry</td>\n",
       "      <td>machine dbh</td>\n",
       "      <td>borehole</td>\n",
       "      <td>groundwater</td>\n",
       "      <td>communal standpipe multiple</td>\n",
       "      <td>communal standpipe</td>\n",
       "    </tr>\n",
       "    <tr>\n",
       "      <th>4</th>\n",
       "      <td>19728</td>\n",
       "      <td>functional</td>\n",
       "      <td>0.0</td>\n",
       "      <td>2011-07-13</td>\n",
       "      <td>Action In A</td>\n",
       "      <td>0</td>\n",
       "      <td>Artisan</td>\n",
       "      <td>31.130847</td>\n",
       "      <td>-1.825359</td>\n",
       "      <td>Shuleni</td>\n",
       "      <td>...</td>\n",
       "      <td>never pay</td>\n",
       "      <td>soft</td>\n",
       "      <td>good</td>\n",
       "      <td>seasonal</td>\n",
       "      <td>seasonal</td>\n",
       "      <td>rainwater harvesting</td>\n",
       "      <td>rainwater harvesting</td>\n",
       "      <td>surface</td>\n",
       "      <td>communal standpipe</td>\n",
       "      <td>communal standpipe</td>\n",
       "    </tr>\n",
       "  </tbody>\n",
       "</table>\n",
       "<p>5 rows × 41 columns</p>\n",
       "</div>"
      ],
      "text/plain": [
       "      id    status_group  amount_tsh date_recorded        funder  gps_height  \\\n",
       "0  69572      functional      6000.0    2011-03-14         Roman        1390   \n",
       "1   8776      functional         0.0    2013-03-06       Grumeti        1399   \n",
       "2  34310      functional        25.0    2013-02-25  Lottery Club         686   \n",
       "3  67743  non functional         0.0    2013-01-28        Unicef         263   \n",
       "4  19728      functional         0.0    2011-07-13   Action In A           0   \n",
       "\n",
       "      installer  longitude   latitude              wpt_name  ...  \\\n",
       "0         Roman  34.938093  -9.856322                  none  ...   \n",
       "1       GRUMETI  34.698766  -2.147466              Zahanati  ...   \n",
       "2  World vision  37.460664  -3.821329           Kwa Mahundi  ...   \n",
       "3        UNICEF  38.486161 -11.155298  Zahanati Ya Nanyumbu  ...   \n",
       "4       Artisan  31.130847  -1.825359               Shuleni  ...   \n",
       "\n",
       "   payment_type water_quality quality_group      quantity  quantity_group  \\\n",
       "0      annually          soft          good        enough          enough   \n",
       "1     never pay          soft          good  insufficient    insufficient   \n",
       "2    per bucket          soft          good        enough          enough   \n",
       "3     never pay          soft          good           dry             dry   \n",
       "4     never pay          soft          good      seasonal        seasonal   \n",
       "\n",
       "                 source           source_type source_class  \\\n",
       "0                spring                spring  groundwater   \n",
       "1  rainwater harvesting  rainwater harvesting      surface   \n",
       "2                   dam                   dam      surface   \n",
       "3           machine dbh              borehole  groundwater   \n",
       "4  rainwater harvesting  rainwater harvesting      surface   \n",
       "\n",
       "               waterpoint_type waterpoint_type_group  \n",
       "0           communal standpipe    communal standpipe  \n",
       "1           communal standpipe    communal standpipe  \n",
       "2  communal standpipe multiple    communal standpipe  \n",
       "3  communal standpipe multiple    communal standpipe  \n",
       "4           communal standpipe    communal standpipe  \n",
       "\n",
       "[5 rows x 41 columns]"
      ]
     },
     "execution_count": 8,
     "metadata": {},
     "output_type": "execute_result"
    }
   ],
   "source": [
    "data.head()"
   ]
  },
  {
   "cell_type": "markdown",
   "metadata": {},
   "source": [
    "It looks like we have 59,400 wells with 41 columns"
   ]
  },
  {
   "cell_type": "code",
   "execution_count": 9,
   "metadata": {
    "scrolled": true
   },
   "outputs": [
    {
     "data": {
      "text/plain": [
       "(59400, 41)"
      ]
     },
     "execution_count": 9,
     "metadata": {},
     "output_type": "execute_result"
    }
   ],
   "source": [
    "data.shape"
   ]
  },
  {
   "cell_type": "markdown",
   "metadata": {},
   "source": [
    "Lets look at the columns"
   ]
  },
  {
   "cell_type": "code",
   "execution_count": 10,
   "metadata": {},
   "outputs": [
    {
     "data": {
      "text/plain": [
       "Index(['id', 'status_group', 'amount_tsh', 'date_recorded', 'funder',\n",
       "       'gps_height', 'installer', 'longitude', 'latitude', 'wpt_name',\n",
       "       'num_private', 'basin', 'subvillage', 'region', 'region_code',\n",
       "       'district_code', 'lga', 'ward', 'population', 'public_meeting',\n",
       "       'recorded_by', 'scheme_management', 'scheme_name', 'permit',\n",
       "       'construction_year', 'extraction_type', 'extraction_type_group',\n",
       "       'extraction_type_class', 'management', 'management_group', 'payment',\n",
       "       'payment_type', 'water_quality', 'quality_group', 'quantity',\n",
       "       'quantity_group', 'source', 'source_type', 'source_class',\n",
       "       'waterpoint_type', 'waterpoint_type_group'],\n",
       "      dtype='object')"
      ]
     },
     "execution_count": 10,
     "metadata": {},
     "output_type": "execute_result"
    }
   ],
   "source": [
    "data.columns"
   ]
  },
  {
   "cell_type": "markdown",
   "metadata": {},
   "source": [
    "Next I identify my target variable \"status_group\""
   ]
  },
  {
   "cell_type": "code",
   "execution_count": 11,
   "metadata": {},
   "outputs": [
    {
     "data": {
      "text/plain": [
       "functional                 32259\n",
       "non functional             22824\n",
       "functional needs repair     4317\n",
       "Name: status_group, dtype: int64"
      ]
     },
     "execution_count": 11,
     "metadata": {},
     "output_type": "execute_result"
    }
   ],
   "source": [
    "data.status_group.value_counts()"
   ]
  },
  {
   "cell_type": "markdown",
   "metadata": {},
   "source": [
    "Lets look for ovbious predictors"
   ]
  },
  {
   "cell_type": "code",
   "execution_count": 12,
   "metadata": {
    "scrolled": true
   },
   "outputs": [
    {
     "name": "stdout",
     "output_type": "stream",
     "text": [
      "<class 'pandas.core.frame.DataFrame'>\n",
      "Int64Index: 59400 entries, 0 to 59399\n",
      "Data columns (total 41 columns):\n",
      " #   Column                 Non-Null Count  Dtype  \n",
      "---  ------                 --------------  -----  \n",
      " 0   id                     59400 non-null  int64  \n",
      " 1   status_group           59400 non-null  object \n",
      " 2   amount_tsh             59400 non-null  float64\n",
      " 3   date_recorded          59400 non-null  object \n",
      " 4   funder                 55765 non-null  object \n",
      " 5   gps_height             59400 non-null  int64  \n",
      " 6   installer              55745 non-null  object \n",
      " 7   longitude              59400 non-null  float64\n",
      " 8   latitude               59400 non-null  float64\n",
      " 9   wpt_name               59400 non-null  object \n",
      " 10  num_private            59400 non-null  int64  \n",
      " 11  basin                  59400 non-null  object \n",
      " 12  subvillage             59029 non-null  object \n",
      " 13  region                 59400 non-null  object \n",
      " 14  region_code            59400 non-null  int64  \n",
      " 15  district_code          59400 non-null  int64  \n",
      " 16  lga                    59400 non-null  object \n",
      " 17  ward                   59400 non-null  object \n",
      " 18  population             59400 non-null  int64  \n",
      " 19  public_meeting         56066 non-null  object \n",
      " 20  recorded_by            59400 non-null  object \n",
      " 21  scheme_management      55523 non-null  object \n",
      " 22  scheme_name            31234 non-null  object \n",
      " 23  permit                 56344 non-null  object \n",
      " 24  construction_year      59400 non-null  int64  \n",
      " 25  extraction_type        59400 non-null  object \n",
      " 26  extraction_type_group  59400 non-null  object \n",
      " 27  extraction_type_class  59400 non-null  object \n",
      " 28  management             59400 non-null  object \n",
      " 29  management_group       59400 non-null  object \n",
      " 30  payment                59400 non-null  object \n",
      " 31  payment_type           59400 non-null  object \n",
      " 32  water_quality          59400 non-null  object \n",
      " 33  quality_group          59400 non-null  object \n",
      " 34  quantity               59400 non-null  object \n",
      " 35  quantity_group         59400 non-null  object \n",
      " 36  source                 59400 non-null  object \n",
      " 37  source_type            59400 non-null  object \n",
      " 38  source_class           59400 non-null  object \n",
      " 39  waterpoint_type        59400 non-null  object \n",
      " 40  waterpoint_type_group  59400 non-null  object \n",
      "dtypes: float64(3), int64(7), object(31)\n",
      "memory usage: 19.0+ MB\n"
     ]
    }
   ],
   "source": [
    "data.info()"
   ]
  },
  {
   "cell_type": "code",
   "execution_count": 13,
   "metadata": {
    "scrolled": false
   },
   "outputs": [
    {
     "data": {
      "text/html": [
       "<div>\n",
       "<style scoped>\n",
       "    .dataframe tbody tr th:only-of-type {\n",
       "        vertical-align: middle;\n",
       "    }\n",
       "\n",
       "    .dataframe tbody tr th {\n",
       "        vertical-align: top;\n",
       "    }\n",
       "\n",
       "    .dataframe thead th {\n",
       "        text-align: right;\n",
       "    }\n",
       "</style>\n",
       "<table border=\"1\" class=\"dataframe\">\n",
       "  <thead>\n",
       "    <tr style=\"text-align: right;\">\n",
       "      <th></th>\n",
       "      <th>id</th>\n",
       "      <th>amount_tsh</th>\n",
       "      <th>gps_height</th>\n",
       "      <th>longitude</th>\n",
       "      <th>latitude</th>\n",
       "      <th>num_private</th>\n",
       "      <th>region_code</th>\n",
       "      <th>district_code</th>\n",
       "      <th>population</th>\n",
       "      <th>construction_year</th>\n",
       "    </tr>\n",
       "  </thead>\n",
       "  <tbody>\n",
       "    <tr>\n",
       "      <th>count</th>\n",
       "      <td>59400.000000</td>\n",
       "      <td>59400.000000</td>\n",
       "      <td>59400.000000</td>\n",
       "      <td>59400.000000</td>\n",
       "      <td>5.940000e+04</td>\n",
       "      <td>59400.000000</td>\n",
       "      <td>59400.000000</td>\n",
       "      <td>59400.000000</td>\n",
       "      <td>59400.000000</td>\n",
       "      <td>59400.000000</td>\n",
       "    </tr>\n",
       "    <tr>\n",
       "      <th>mean</th>\n",
       "      <td>37115.131768</td>\n",
       "      <td>317.650385</td>\n",
       "      <td>668.297239</td>\n",
       "      <td>34.077427</td>\n",
       "      <td>-5.706033e+00</td>\n",
       "      <td>0.474141</td>\n",
       "      <td>15.297003</td>\n",
       "      <td>5.629747</td>\n",
       "      <td>179.909983</td>\n",
       "      <td>1300.652475</td>\n",
       "    </tr>\n",
       "    <tr>\n",
       "      <th>std</th>\n",
       "      <td>21453.128371</td>\n",
       "      <td>2997.574558</td>\n",
       "      <td>693.116350</td>\n",
       "      <td>6.567432</td>\n",
       "      <td>2.946019e+00</td>\n",
       "      <td>12.236230</td>\n",
       "      <td>17.587406</td>\n",
       "      <td>9.633649</td>\n",
       "      <td>471.482176</td>\n",
       "      <td>951.620547</td>\n",
       "    </tr>\n",
       "    <tr>\n",
       "      <th>min</th>\n",
       "      <td>0.000000</td>\n",
       "      <td>0.000000</td>\n",
       "      <td>-90.000000</td>\n",
       "      <td>0.000000</td>\n",
       "      <td>-1.164944e+01</td>\n",
       "      <td>0.000000</td>\n",
       "      <td>1.000000</td>\n",
       "      <td>0.000000</td>\n",
       "      <td>0.000000</td>\n",
       "      <td>0.000000</td>\n",
       "    </tr>\n",
       "    <tr>\n",
       "      <th>25%</th>\n",
       "      <td>18519.750000</td>\n",
       "      <td>0.000000</td>\n",
       "      <td>0.000000</td>\n",
       "      <td>33.090347</td>\n",
       "      <td>-8.540621e+00</td>\n",
       "      <td>0.000000</td>\n",
       "      <td>5.000000</td>\n",
       "      <td>2.000000</td>\n",
       "      <td>0.000000</td>\n",
       "      <td>0.000000</td>\n",
       "    </tr>\n",
       "    <tr>\n",
       "      <th>50%</th>\n",
       "      <td>37061.500000</td>\n",
       "      <td>0.000000</td>\n",
       "      <td>369.000000</td>\n",
       "      <td>34.908743</td>\n",
       "      <td>-5.021597e+00</td>\n",
       "      <td>0.000000</td>\n",
       "      <td>12.000000</td>\n",
       "      <td>3.000000</td>\n",
       "      <td>25.000000</td>\n",
       "      <td>1986.000000</td>\n",
       "    </tr>\n",
       "    <tr>\n",
       "      <th>75%</th>\n",
       "      <td>55656.500000</td>\n",
       "      <td>20.000000</td>\n",
       "      <td>1319.250000</td>\n",
       "      <td>37.178387</td>\n",
       "      <td>-3.326156e+00</td>\n",
       "      <td>0.000000</td>\n",
       "      <td>17.000000</td>\n",
       "      <td>5.000000</td>\n",
       "      <td>215.000000</td>\n",
       "      <td>2004.000000</td>\n",
       "    </tr>\n",
       "    <tr>\n",
       "      <th>max</th>\n",
       "      <td>74247.000000</td>\n",
       "      <td>350000.000000</td>\n",
       "      <td>2770.000000</td>\n",
       "      <td>40.345193</td>\n",
       "      <td>-2.000000e-08</td>\n",
       "      <td>1776.000000</td>\n",
       "      <td>99.000000</td>\n",
       "      <td>80.000000</td>\n",
       "      <td>30500.000000</td>\n",
       "      <td>2013.000000</td>\n",
       "    </tr>\n",
       "  </tbody>\n",
       "</table>\n",
       "</div>"
      ],
      "text/plain": [
       "                 id     amount_tsh    gps_height     longitude      latitude  \\\n",
       "count  59400.000000   59400.000000  59400.000000  59400.000000  5.940000e+04   \n",
       "mean   37115.131768     317.650385    668.297239     34.077427 -5.706033e+00   \n",
       "std    21453.128371    2997.574558    693.116350      6.567432  2.946019e+00   \n",
       "min        0.000000       0.000000    -90.000000      0.000000 -1.164944e+01   \n",
       "25%    18519.750000       0.000000      0.000000     33.090347 -8.540621e+00   \n",
       "50%    37061.500000       0.000000    369.000000     34.908743 -5.021597e+00   \n",
       "75%    55656.500000      20.000000   1319.250000     37.178387 -3.326156e+00   \n",
       "max    74247.000000  350000.000000   2770.000000     40.345193 -2.000000e-08   \n",
       "\n",
       "        num_private   region_code  district_code    population  \\\n",
       "count  59400.000000  59400.000000   59400.000000  59400.000000   \n",
       "mean       0.474141     15.297003       5.629747    179.909983   \n",
       "std       12.236230     17.587406       9.633649    471.482176   \n",
       "min        0.000000      1.000000       0.000000      0.000000   \n",
       "25%        0.000000      5.000000       2.000000      0.000000   \n",
       "50%        0.000000     12.000000       3.000000     25.000000   \n",
       "75%        0.000000     17.000000       5.000000    215.000000   \n",
       "max     1776.000000     99.000000      80.000000  30500.000000   \n",
       "\n",
       "       construction_year  \n",
       "count       59400.000000  \n",
       "mean         1300.652475  \n",
       "std           951.620547  \n",
       "min             0.000000  \n",
       "25%             0.000000  \n",
       "50%          1986.000000  \n",
       "75%          2004.000000  \n",
       "max          2013.000000  "
      ]
     },
     "execution_count": 13,
     "metadata": {},
     "output_type": "execute_result"
    }
   ],
   "source": [
    "data.describe()"
   ]
  },
  {
   "cell_type": "markdown",
   "metadata": {},
   "source": [
    "Ok, lets look a little deeper into some variables."
   ]
  },
  {
   "cell_type": "code",
   "execution_count": 14,
   "metadata": {
    "scrolled": false
   },
   "outputs": [
    {
     "data": {
      "text/plain": [
       "<AxesSubplot:xlabel='waterpoint_type', ylabel='count'>"
      ]
     },
     "execution_count": 14,
     "metadata": {},
     "output_type": "execute_result"
    },
    {
     "data": {
      "image/png": "[encoded data removed]",
      "text/plain": [
       "<Figure size 1080x720 with 1 Axes>"
      ]
     },
     "metadata": {
      "needs_background": "light"
     },
     "output_type": "display_data"
    }
   ],
   "source": [
    "plt.figure(figsize=(15, 10))\n",
    "\n",
    "sns.countplot(data=data,x='waterpoint_type',hue='status_group')"
   ]
  },
  {
   "cell_type": "code",
   "execution_count": 15,
   "metadata": {},
   "outputs": [
    {
     "data": {
      "text/plain": [
       "<AxesSubplot:xlabel='waterpoint_type', ylabel='count'>"
      ]
     },
     "execution_count": 15,
     "metadata": {},
     "output_type": "execute_result"
    },
    {
     "data": {
      "image/png": "[encoded data removed]",
      "text/plain": [
       "<Figure size 1080x720 with 1 Axes>"
      ]
     },
     "metadata": {
      "needs_background": "light"
     },
     "output_type": "display_data"
    }
   ],
   "source": [
    "plt.figure(figsize=(15, 10))\n",
    "\n",
    "sns.countplot(data=data,x='waterpoint_type',hue='status_group')"
   ]
  },
  {
   "cell_type": "code",
   "execution_count": 16,
   "metadata": {
    "scrolled": true
   },
   "outputs": [
    {
     "data": {
      "text/plain": [
       "<AxesSubplot:xlabel='region', ylabel='count'>"
      ]
     },
     "execution_count": 16,
     "metadata": {},
     "output_type": "execute_result"
    },
    {
     "data": {
      "image/png": "[encoded data removed]",
      "text/plain": [
       "<Figure size 1080x720 with 1 Axes>"
      ]
     },
     "metadata": {
      "needs_background": "light"
     },
     "output_type": "display_data"
    }
   ],
   "source": [
    "plt.figure(figsize=(15, 10))\n",
    "\n",
    "sns.countplot(data=data,x='region',hue='status_group')"
   ]
  },
  {
   "cell_type": "markdown",
   "metadata": {},
   "source": [
    "There is something interesting with longitude"
   ]
  },
  {
   "cell_type": "code",
   "execution_count": 17,
   "metadata": {},
   "outputs": [
    {
     "data": {
      "text/plain": [
       "<seaborn.axisgrid.FacetGrid at 0x1b3819c56a0>"
      ]
     },
     "execution_count": 17,
     "metadata": {},
     "output_type": "execute_result"
    },
    {
     "data": {
      "image/png": "[encoded data removed]",
      "text/plain": [
       "<Figure size 871.875x720 with 1 Axes>"
      ]
     },
     "metadata": {
      "needs_background": "light"
     },
     "output_type": "display_data"
    }
   ],
   "source": [
    "sns.FacetGrid(data, hue='status_group',height=10).map(sns.kdeplot, 'longitude', shade=True).add_legend()"
   ]
  },
  {
   "cell_type": "code",
   "execution_count": 18,
   "metadata": {
    "scrolled": false
   },
   "outputs": [
    {
     "data": {
      "text/plain": [
       "<seaborn.axisgrid.FacetGrid at 0x1b3819c5460>"
      ]
     },
     "execution_count": 18,
     "metadata": {},
     "output_type": "execute_result"
    },
    {
     "data": {
      "image/png": "[encoded data removed]",
      "text/plain": [
       "<Figure size 871.875x720 with 1 Axes>"
      ]
     },
     "metadata": {
      "needs_background": "light"
     },
     "output_type": "display_data"
    }
   ],
   "source": [
    "sns.FacetGrid(data, hue='status_group', height = 10).map(sns.kdeplot, 'latitude', shade = True).add_legend()"
   ]
  },
  {
   "cell_type": "code",
   "execution_count": 19,
   "metadata": {},
   "outputs": [
    {
     "data": {
      "text/plain": [
       "<AxesSubplot:xlabel='quantity', ylabel='count'>"
      ]
     },
     "execution_count": 19,
     "metadata": {},
     "output_type": "execute_result"
    },
    {
     "data": {
      "image/png": "[encoded data removed]",
      "text/plain": [
       "<Figure size 1080x720 with 1 Axes>"
      ]
     },
     "metadata": {
      "needs_background": "light"
     },
     "output_type": "display_data"
    }
   ],
   "source": [
    "plt.figure(figsize=(15, 10))\n",
    "\n",
    "sns.countplot(data=data,x='quantity',hue='status_group')"
   ]
  },
  {
   "cell_type": "markdown",
   "metadata": {},
   "source": [
    "Now I get rid of a bunch of features. Id, recorded by, etc were removed because they would only serve to bias the models. Quality group, source type and most of the others were duplicates. A remaining few , like sheme name, were removed, becuase the data inputed was unclear or unhelpful."
   ]
  },
  {
   "cell_type": "code",
   "execution_count": 20,
   "metadata": {},
   "outputs": [],
   "source": [
    "waste_features=['wpt_name','num_private','subvillage','region_code','recorded_by','management_group',\n",
    "                'extraction_type_group','extraction_type_class','scheme_name','payment','quality_group',\n",
    "                'quantity_group','source_type','source_class','waterpoint_type_group','ward','installer',\n",
    "                'public_meeting','permit','date_recorded','construction_year','id']\n",
    "data.drop(waste_features, axis = 1, inplace = True)"
   ]
  },
  {
   "cell_type": "markdown",
   "metadata": {},
   "source": [
    "Heres what the data looks like now."
   ]
  },
  {
   "cell_type": "code",
   "execution_count": 21,
   "metadata": {
    "scrolled": true
   },
   "outputs": [
    {
     "name": "stdout",
     "output_type": "stream",
     "text": [
      "<class 'pandas.core.frame.DataFrame'>\n",
      "Int64Index: 59400 entries, 0 to 59399\n",
      "Data columns (total 19 columns):\n",
      " #   Column             Non-Null Count  Dtype  \n",
      "---  ------             --------------  -----  \n",
      " 0   status_group       59400 non-null  object \n",
      " 1   amount_tsh         59400 non-null  float64\n",
      " 2   funder             55765 non-null  object \n",
      " 3   gps_height         59400 non-null  int64  \n",
      " 4   longitude          59400 non-null  float64\n",
      " 5   latitude           59400 non-null  float64\n",
      " 6   basin              59400 non-null  object \n",
      " 7   region             59400 non-null  object \n",
      " 8   district_code      59400 non-null  int64  \n",
      " 9   lga                59400 non-null  object \n",
      " 10  population         59400 non-null  int64  \n",
      " 11  scheme_management  55523 non-null  object \n",
      " 12  extraction_type    59400 non-null  object \n",
      " 13  management         59400 non-null  object \n",
      " 14  payment_type       59400 non-null  object \n",
      " 15  water_quality      59400 non-null  object \n",
      " 16  quantity           59400 non-null  object \n",
      " 17  source             59400 non-null  object \n",
      " 18  waterpoint_type    59400 non-null  object \n",
      "dtypes: float64(3), int64(3), object(13)\n",
      "memory usage: 11.6+ MB\n"
     ]
    }
   ],
   "source": [
    "data.info()"
   ]
  },
  {
   "cell_type": "markdown",
   "metadata": {},
   "source": [
    "Lets deal with objects in the data set"
   ]
  },
  {
   "cell_type": "code",
   "execution_count": 22,
   "metadata": {},
   "outputs": [],
   "source": [
    "data['funder'] = pd.factorize(data['funder'])[0]\n",
    "data['scheme_management'] = pd.factorize(data['scheme_management'])[0]\n",
    "data['extraction_type'] = pd.factorize(data['extraction_type'])[0]\n",
    "data['management'] = pd.factorize(data['management'])[0]\n",
    "data['payment_type'] = pd.factorize(data['payment_type'])[0]\n",
    "data['water_quality'] = pd.factorize(data['water_quality'])[0]\n",
    "data['quantity'] = pd.factorize(data['quantity'])[0]\n",
    "data['source'] = pd.factorize(data['source'])[0]\n",
    "data['waterpoint_type'] = pd.factorize(data['waterpoint_type'])[0]\n",
    "data['basin'] = pd.factorize(data['basin'])[0]\n",
    "data['region'] = pd.factorize(data['region'])[0]\n",
    "data['lga'] = pd.factorize(data['lga'])[0]\n",
    "data['district_code'] = pd.factorize(data['district_code'])[0]"
   ]
  },
  {
   "cell_type": "markdown",
   "metadata": {},
   "source": [
    "Create an X and y, with y being our target"
   ]
  },
  {
   "cell_type": "code",
   "execution_count": 23,
   "metadata": {},
   "outputs": [],
   "source": [
    "y = data.status_group\n",
    "X = data.drop('status_group', axis = 1)"
   ]
  },
  {
   "cell_type": "markdown",
   "metadata": {},
   "source": [
    "Split the data set so for training and testing"
   ]
  },
  {
   "cell_type": "code",
   "execution_count": 24,
   "metadata": {},
   "outputs": [],
   "source": [
    "X_train, X_test, y_train, y_test = train_test_split(X, y, test_size=0.5, random_state=42)"
   ]
  },
  {
   "cell_type": "markdown",
   "metadata": {},
   "source": [
    "Scale the Data (Avoid leakage!)"
   ]
  },
  {
   "cell_type": "code",
   "execution_count": 25,
   "metadata": {},
   "outputs": [],
   "source": [
    "sc = StandardScaler()\n",
    "sc.fit(X_train)\n",
    "X_scaled_train = sc.transform(X_train)\n",
    "X_scaled_test = sc.transform(X_test)"
   ]
  },
  {
   "cell_type": "markdown",
   "metadata": {},
   "source": [
    "Modeling"
   ]
  },
  {
   "cell_type": "markdown",
   "metadata": {},
   "source": [
    "1st Model - Dummy Model\\\n",
    "\n",
    "This model is used as a baseline and is not very good."
   ]
  },
  {
   "cell_type": "code",
   "execution_count": 26,
   "metadata": {},
   "outputs": [
    {
     "name": "stdout",
     "output_type": "stream",
     "text": [
      "Training Metrics\n",
      "Model: DummyClassifier(strategy='stratified')\n",
      "Accuracy: 0.4432996632996633\n",
      "F1-Score: 0.3266226400766155\n",
      "Precision: 0.3265996472960213\n",
      "Recall: 0.3266874930717935\n",
      "\n",
      "Training Cross Val Score\n",
      "[0.45589226 0.453367   0.45521886 0.4459596  0.44882155]\n",
      "\n",
      "Testing Metrics\n",
      "Model: DummyClassifier(strategy='stratified')\n",
      "Accuracy: 0.44427609427609427\n",
      "F1-Score: 0.3328320854282432\n",
      "Precision: 0.33292843303608444\n",
      "Recall: 0.3327657141701374\n",
      "\n",
      "Testing Cross Val Score\n",
      "[0.44848485 0.4506734  0.43888889 0.44141414 0.44427609]\n"
     ]
    }
   ],
   "source": [
    "# Instantiate Model\n",
    "dummy_model = DummyClassifier(strategy='stratified')\n",
    "\n",
    "# Fit Model\n",
    "dummy_model.fit(X_scaled_train, y_train)\n",
    "\n",
    "# Make Predictions\n",
    "dummy_model_pred_train = dummy_model.predict(X_scaled_train)\n",
    "dummy_model_pred_test = dummy_model.predict(X_scaled_test)\n",
    "\n",
    "# Save Information\n",
    "dummy_model_results = ModelWithCV(\n",
    "                        model=dummy_model,\n",
    "                        model_name='dummy',\n",
    "                        X=X_scaled_train, \n",
    "                        y=y_train)\n",
    "\n",
    "# Print Evaluation\n",
    "PrintEvaluation(y_train, y_test, X_scaled_train, X_scaled_test, dummy_model_pred_train, dummy_model_pred_test, dummy_model)\n",
    "\n",
    "## Feature importance\n",
    "#print('Feature Importances')\n",
    "#print(dummy_model.feature_importances_)\n",
    "#plot_feature_importances(dummy_model)"
   ]
  },
  {
   "cell_type": "code",
   "execution_count": 27,
   "metadata": {},
   "outputs": [
    {
     "name": "stdout",
     "output_type": "stream",
     "text": [
      "CV Results for `dummy` model:\n",
      "            0.45178 ± 0.01254 accuracy\n",
      "        \n"
     ]
    },
    {
     "data": {
      "image/png": "[encoded data removed]",
      "text/plain": [
       "<Figure size 432x288 with 1 Axes>"
      ]
     },
     "metadata": {
      "needs_background": "light"
     },
     "output_type": "display_data"
    }
   ],
   "source": [
    "fig, ax = plt.subplots()\n",
    "\n",
    "ax = dummy_model_results.plot_cv(ax)\n",
    "plt.tight_layout();\n",
    "\n",
    "dummy_model_results.print_cv_summary()"
   ]
  },
  {
   "cell_type": "code",
   "execution_count": 28,
   "metadata": {},
   "outputs": [
    {
     "data": {
      "image/png": "[encoded data removed]",
      "text/plain": [
       "<Figure size 432x288 with 2 Axes>"
      ]
     },
     "metadata": {
      "needs_background": "light"
     },
     "output_type": "display_data"
    }
   ],
   "source": [
    "fig, ax = plt.subplots()\n",
    "\n",
    "fig.suptitle(\"Dummy Model\")\n",
    "\n",
    "plot_confusion_matrix(dummy_model, X_scaled_train, y_train, ax=ax, cmap=\"plasma\");"
   ]
  },
  {
   "cell_type": "markdown",
   "metadata": {},
   "source": [
    "2nd Model: Log Regression \\\n",
    "This model did not perform well. It had one of the lowest accuracy scores."
   ]
  },
  {
   "cell_type": "code",
   "execution_count": 29,
   "metadata": {},
   "outputs": [
    {
     "name": "stdout",
     "output_type": "stream",
     "text": [
      "Training Metrics\n",
      "Model: LogisticRegression(penalty='none', random_state=2021)\n",
      "Accuracy: 0.6374074074074074\n",
      "F1-Score: 0.4249180534740104\n",
      "Precision: 0.5040754899410311\n",
      "Recall: 0.43848257377702243\n",
      "\n",
      "Training Cross Val Score\n",
      "[0.63552189 0.64107744 0.6459596  0.62912458 0.63282828]\n",
      "\n",
      "Testing Metrics\n",
      "Model: LogisticRegression(penalty='none', random_state=2021)\n",
      "Accuracy: 0.6361616161616162\n",
      "F1-Score: 0.425022001944924\n",
      "Precision: 0.48450421113415487\n",
      "Recall: 0.43885575724473497\n",
      "\n",
      "Testing Cross Val Score\n",
      "[0.63417508 0.62794613 0.63198653 0.64410774 0.63535354]\n"
     ]
    }
   ],
   "source": [
    "# Instantitate Model\n",
    "simple_logreg_model = LogisticRegression(random_state=2021, penalty='none')\n",
    "\n",
    "# Fit Model\n",
    "simple_logreg_model.fit(X_scaled_train, y_train)\n",
    "\n",
    "# Make Predictions\n",
    "simple_logreg_pred_train = simple_logreg_model.predict(X_scaled_train)\n",
    "simple_logreg_pred_test = simple_logreg_model.predict(X_scaled_test)\n",
    "\n",
    "# Save Information\n",
    "simple_logreg_results = ModelWithCV(\n",
    "                        model=simple_logreg_model,\n",
    "                        model_name='Simple Logreg',\n",
    "                        X=X_scaled_train, \n",
    "                        y=y_train)\n",
    "\n",
    "# Evaluate Model\n",
    "PrintEvaluation(y_train, y_test, X_scaled_train, X_scaled_test, simple_logreg_pred_train,\n",
    "                    simple_logreg_pred_test, simple_logreg_model)"
   ]
  },
  {
   "cell_type": "code",
   "execution_count": 30,
   "metadata": {},
   "outputs": [
    {
     "data": {
      "image/png": "[encoded data removed]",
      "text/plain": [
       "<Figure size 432x288 with 2 Axes>"
      ]
     },
     "metadata": {
      "needs_background": "light"
     },
     "output_type": "display_data"
    }
   ],
   "source": [
    "fig, ax = plt.subplots()\n",
    "\n",
    "fig.suptitle(\"Logistic Regression\")\n",
    "\n",
    "plot_confusion_matrix(simple_logreg_model, X_scaled_train, y_train, ax=ax, cmap=\"plasma\");"
   ]
  },
  {
   "cell_type": "markdown",
   "metadata": {},
   "source": [
    "3rd Model: K Nearnest Neighbors\\\n",
    "This model performs better but still not very good\\\n",
    "I also check for the ideal k, but the default was the best one so I didn't remake the model."
   ]
  },
  {
   "cell_type": "code",
   "execution_count": 31,
   "metadata": {
    "scrolled": true
   },
   "outputs": [
    {
     "name": "stdout",
     "output_type": "stream",
     "text": [
      "Training Metrics\n",
      "Model: KNeighborsClassifier()\n",
      "Accuracy: 0.8222895622895623\n",
      "F1-Score: 0.7273569326502273\n",
      "Precision: 0.7791523230216577\n",
      "Recall: 0.6988885574147901\n",
      "\n",
      "Training Cross Val Score\n",
      "[0.7479798  0.74225589 0.74814815 0.73670034 0.74191919]\n",
      "\n",
      "Testing Metrics\n",
      "Model: KNeighborsClassifier()\n",
      "Accuracy: 0.7546464646464647\n",
      "F1-Score: 0.6378469679002101\n",
      "Precision: 0.671159428749858\n",
      "Recall: 0.6196419031308693\n",
      "\n",
      "Testing Cross Val Score\n",
      "[0.75084175 0.74225589 0.74191919 0.75252525 0.74478114]\n",
      "Best Value for k: 5\n",
      "F1-Score: 0.7546464646464647\n",
      "best k None\n"
     ]
    }
   ],
   "source": [
    "# Instantiate KNeighborsClassifier\n",
    "KNC = KNeighborsClassifier()\n",
    "\n",
    "# Fit the classifier\n",
    "KNC.fit(X_scaled_train, y_train)\n",
    "\n",
    "# Predict on the test set\n",
    "KNC_prediction_train = KNC.predict(X_scaled_train)\n",
    "KNC_prediction_test = KNC.predict(X_scaled_test)\n",
    "\n",
    "# Save Information\n",
    "KNeighborsClassifier_model_results = ModelWithCV(\n",
    "                        model=KNC,\n",
    "                        model_name='KNeighborsClassifier',\n",
    "                        X=X_scaled_train, \n",
    "                        y=y_train)\n",
    "\n",
    "# Evaluate Model\n",
    "PrintEvaluation(y_train = y_train, y_test = y_test, X_train = X_scaled_train, X_test = X_scaled_test,\n",
    "                train_preds = KNC_prediction_train, test_preds = KNC_prediction_test , model = KNC)\n",
    "\n",
    "\n",
    "# Improve Model by Finding Best K\n",
    "best_k = find_best_k(X_scaled_train, y_train, X_scaled_test, y_test)\n",
    "print(\"best k\", best_k)\n"
   ]
  },
  {
   "cell_type": "code",
   "execution_count": 32,
   "metadata": {},
   "outputs": [
    {
     "data": {
      "image/png": "[encoded data removed]",
      "text/plain": [
       "<Figure size 432x288 with 2 Axes>"
      ]
     },
     "metadata": {
      "needs_background": "light"
     },
     "output_type": "display_data"
    }
   ],
   "source": [
    "fig, ax = plt.subplots()\n",
    "\n",
    "fig.suptitle(\"K Nearest Neighbors\")\n",
    "\n",
    "plot_confusion_matrix(KNC, X_scaled_train, y_train, ax=ax, cmap=\"plasma\");"
   ]
  },
  {
   "cell_type": "markdown",
   "metadata": {},
   "source": [
    "4th Model: Decision Tree Classifier\\\n",
    "The model was very overfit. I will use random forest to compensate for this."
   ]
  },
  {
   "cell_type": "code",
   "execution_count": 33,
   "metadata": {
    "scrolled": true
   },
   "outputs": [
    {
     "name": "stdout",
     "output_type": "stream",
     "text": [
      "Training Metrics\n",
      "Model: DecisionTreeClassifier(criterion='entropy')\n",
      "Accuracy: 0.997037037037037\n",
      "F1-Score: 0.9931803680070402\n",
      "Precision: 0.9948372520216977\n",
      "Recall: 0.9915452017401787\n",
      "\n",
      "Training Cross Val Score\n",
      "[0.7486532  0.73282828 0.73720539 0.74309764 0.73670034]\n",
      "\n",
      "Testing Metrics\n",
      "Model: DecisionTreeClassifier(criterion='entropy')\n",
      "Accuracy: 0.7438383838383839\n",
      "F1-Score: 0.6407312296630119\n",
      "Precision: 0.6391556573117224\n",
      "Recall: 0.6423867181700748\n",
      "\n",
      "Testing Cross Val Score\n",
      "[0.74006734 0.73989899 0.73501684 0.73383838 0.73131313]\n",
      "Feature Importances\n",
      "[0.02614497 0.06689317 0.08205963 0.20279021 0.18138096 0.00924822\n",
      " 0.01072777 0.01870302 0.03076622 0.05688579 0.01388031 0.03514032\n",
      " 0.01607996 0.0209183  0.0114181  0.12998941 0.03056732 0.05640632]\n"
     ]
    },
    {
     "ename": "TypeError",
     "evalue": "plot_feature_importances() takes 1 positional argument but 2 were given",
     "output_type": "error",
     "traceback": [
      "\u001b[1;31m---------------------------------------------------------------------------\u001b[0m",
      "\u001b[1;31mTypeError\u001b[0m                                 Traceback (most recent call last)",
      "\u001b[1;32m<ipython-input-33-25881a6befca>\u001b[0m in \u001b[0;36m<module>\u001b[1;34m\u001b[0m\n\u001b[0;32m     22\u001b[0m \u001b[0mprint\u001b[0m\u001b[1;33m(\u001b[0m\u001b[1;34m'Feature Importances'\u001b[0m\u001b[1;33m)\u001b[0m\u001b[1;33m\u001b[0m\u001b[1;33m\u001b[0m\u001b[0m\n\u001b[0;32m     23\u001b[0m \u001b[0mprint\u001b[0m\u001b[1;33m(\u001b[0m\u001b[0mdtc\u001b[0m\u001b[1;33m.\u001b[0m\u001b[0mfeature_importances_\u001b[0m\u001b[1;33m)\u001b[0m\u001b[1;33m\u001b[0m\u001b[1;33m\u001b[0m\u001b[0m\n\u001b[1;32m---> 24\u001b[1;33m \u001b[0mplot_feature_importances\u001b[0m\u001b[1;33m(\u001b[0m\u001b[0mdtc\u001b[0m\u001b[1;33m,\u001b[0m \u001b[1;34m'Feature Importance'\u001b[0m\u001b[1;33m)\u001b[0m\u001b[1;33m\u001b[0m\u001b[1;33m\u001b[0m\u001b[0m\n\u001b[0m",
      "\u001b[1;31mTypeError\u001b[0m: plot_feature_importances() takes 1 positional argument but 2 were given"
     ]
    }
   ],
   "source": [
    "# Instantiate Model\n",
    "dtc = DecisionTreeClassifier(criterion='entropy')\n",
    "\n",
    "# Fit Model\n",
    "dtc.fit(X_train, y_train)\n",
    "\n",
    "# Make Predictions\n",
    "dtc_predictions_train = dtc.predict(X_train)\n",
    "dtc_predictions_test = dtc.predict(X_test)\n",
    "\n",
    "# Save Information\n",
    "dtc_model_results = ModelWithCV(\n",
    "                        model=dtc,\n",
    "                        model_name='Decision Tree Classifier',\n",
    "                        X=X_train, \n",
    "                        y=y_train)\n",
    "\n",
    "# Evaluate Model\n",
    "PrintEvaluation(y_train, y_test, X_train, X_test, dtc_predictions_train, dtc_predictions_test, dtc)\n",
    "\n",
    "## Feature importance\n",
    "print('Feature Importances')\n",
    "print(dtc.feature_importances_)\n",
    "plot_feature_importances(dtc, 'Feature Importance')"
   ]
  },
  {
   "cell_type": "code",
   "execution_count": null,
   "metadata": {},
   "outputs": [],
   "source": [
    "fig, ax = plt.subplots()\n",
    "\n",
    "fig.suptitle(\"Decision Tree\")\n",
    "\n",
    "plot_confusion_matrix(dtc, X_train, y_train, ax=ax, cmap=\"plasma\");"
   ]
  },
  {
   "cell_type": "markdown",
   "metadata": {},
   "source": [
    "Plot the decision tree"
   ]
  },
  {
   "cell_type": "code",
   "execution_count": null,
   "metadata": {
    "scrolled": true
   },
   "outputs": [],
   "source": [
    "fig, axes = plt.subplots(nrows = 1,ncols = 1, figsize = (3,3), dpi=300)\n",
    "tree.plot_tree(dtc,\n",
    "               feature_names = data.columns, \n",
    "               class_names=np.unique(y).astype('str'),\n",
    "               filled = True)\n",
    "plt.show()"
   ]
  },
  {
   "cell_type": "markdown",
   "metadata": {},
   "source": [
    "5th Model: Bagged Trees\\\n",
    "This model performs well as it mitigates some of the negative tendencies of Decision Trees."
   ]
  },
  {
   "cell_type": "code",
   "execution_count": null,
   "metadata": {},
   "outputs": [],
   "source": [
    "# Instantiate a BaggingClassifier\n",
    "bagged_tree =  BaggingClassifier(DecisionTreeClassifier(criterion='gini', max_depth=5), \n",
    "                                 n_estimators=100, random_state = 42)\n",
    "\n",
    "# Fit to the training data\n",
    "bagged_tree.fit(X_train, y_train)\n",
    "\n",
    "# Make Predictions\n",
    "bagged_tree_predictions_train = bagged_tree.predict(X_train)\n",
    "bagged_tree_predictions_test = bagged_tree.predict(X_test)\n",
    "\n",
    "# Save Information\n",
    "bagged_tree_model_results = ModelWithCV(\n",
    "                        model=bagged_tree,\n",
    "                        model_name='bagged tree',\n",
    "                        X=X_train, \n",
    "                        y=y_train)\n",
    "\n",
    "# Evaluate Model\n",
    "PrintEvaluation(y_train, y_test, X_train, X_test,\n",
    "                bagged_tree_predictions_train, bagged_tree_predictions_test, bagged_tree)"
   ]
  },
  {
   "cell_type": "code",
   "execution_count": null,
   "metadata": {},
   "outputs": [],
   "source": [
    "fig, ax = plt.subplots()\n",
    "\n",
    "fig.suptitle(\"Bagged Trees\")\n",
    "\n",
    "plot_confusion_matrix(bagged_tree, X_train, y_train, ax=ax, cmap=\"plasma\");"
   ]
  },
  {
   "cell_type": "markdown",
   "metadata": {},
   "source": [
    "6th Model: Random forests\\\n",
    "This is by far the best model. Although it is still prone to overfitting."
   ]
  },
  {
   "cell_type": "code",
   "execution_count": null,
   "metadata": {
    "scrolled": false
   },
   "outputs": [],
   "source": [
    "# Instanitate Model\n",
    "rfc = RandomForestClassifier(n_estimators=500,max_features='sqrt',\n",
    "                                         min_samples_split=8)\n",
    "\n",
    "# Fit Model\n",
    "rfc.fit(X_train, y_train)\n",
    "\n",
    "# Predict with Model\n",
    "rfc_prediction_train = rfc.predict(X_train)\n",
    "rfc_prediction_test = rfc.predict(X_test)\n",
    "\n",
    "# Save Information\n",
    "rfc_model_results = ModelWithCV(\n",
    "                        model=rfc,\n",
    "                        model_name='Random Forest Classifier',\n",
    "                        X=X_train, \n",
    "                        y=y_train)\n",
    "\n",
    "# Evaluate Model\n",
    "PrintEvaluation(y_train, y_test, X_train, X_test, rfc_prediction_train, rfc_prediction_test, rfc)\n",
    "\n",
    "# Estimators\n",
    "#estimators = rfc.estimators_\n",
    "\n",
    "## Feature importance\n",
    "print('Feature Importances')\n",
    "print(rfc.feature_importances_)\n",
    "plot_feature_importances(rfc, title = '')"
   ]
  },
  {
   "cell_type": "code",
   "execution_count": null,
   "metadata": {},
   "outputs": [],
   "source": [
    "fig, ax = plt.subplots()\n",
    "\n",
    "fig.suptitle(\"Random Forest\")\n",
    "\n",
    "plot_confusion_matrix(rfc, X_train, y_train, ax=ax, cmap=\"plasma\");"
   ]
  },
  {
   "cell_type": "markdown",
   "metadata": {},
   "source": [
    "Weak Learners"
   ]
  },
  {
   "cell_type": "markdown",
   "metadata": {},
   "source": [
    "8th Model: GradientBoostingClassifier\\\n",
    "This model does not improve upon the performance of the random forest model."
   ]
  },
  {
   "cell_type": "code",
   "execution_count": null,
   "metadata": {},
   "outputs": [],
   "source": [
    "# Instantiate an GradientBoostingClassifier\n",
    "gbt_clf = GradientBoostingClassifier(random_state=42)\n",
    "\n",
    "# Fit the models\n",
    "gbt_clf.fit(X_train, y_train)\n",
    "\n",
    "# GradientBoosting model predictions\n",
    "gbt_clf_train_preds = gbt_clf.predict(X_train)\n",
    "gbt_clf_test_preds = gbt_clf.predict(X_test)\n",
    "\n",
    "# Save Information\n",
    "GradientBoostingClassifier_model_results = ModelWithCV(\n",
    "                        model=gbt_clf,\n",
    "                        model_name='GradientBoostingClassifier',\n",
    "                        X=X_train, \n",
    "                        y=y_train)\n",
    "\n",
    "# Evaluate Model\n",
    "PrintEvaluation(y_train, y_test, X_train, X_test,\n",
    "                gbt_clf_train_preds, gbt_clf_test_preds , gbt_clf)\n",
    "\n",
    "\n",
    "## Feature importance\n",
    "print('Feature Importances')\n",
    "print(gbt_clf.feature_importances_)\n",
    "plot_feature_importances(gbt_clf)\n",
    "\n",
    "\n",
    "#gbt_confusion_matrix = confusion_matrix(y_test, gbt_clf_test_preds)\n",
    "#gbt_confusion_matrix\n",
    "#gbt_classification_report = classification_report(y_test, gbt_clf_test_preds)\n",
    "#print(gbt_classification_report)"
   ]
  },
  {
   "cell_type": "markdown",
   "metadata": {},
   "source": [
    "Stacking Models\\\n",
    "No ensemble combination improved accuracy score."
   ]
  },
  {
   "cell_type": "code",
   "execution_count": null,
   "metadata": {},
   "outputs": [],
   "source": [
    "# Instantiate Stacking Regressor and Make Estimators\n",
    "estimators = [\n",
    "    ('dtr', DecisionTreeClassifier()),\n",
    "    ('rfc', RandomForestClassifier()),\n",
    "    ('bagged_tree', BaggingClassifier())]\n",
    "\n",
    "vc = VotingClassifier(estimators)\n",
    "\n",
    "# Fit the Regressor\n",
    "vc.fit(X_scaled_train, y_train)\n",
    "\n",
    "# Model Predictions\n",
    "vc_train_preds = vc.predict(X_scaled_train)\n",
    "vc_test_preds = vc.predict(X_scaled_test)\n",
    "\n",
    "# Evaluate Model\n",
    "PrintEvaluation(y_train, y_test, X_scaled_train, X_scaled_test,\n",
    "                vc_train_preds, vc_test_preds , vc)"
   ]
  },
  {
   "cell_type": "markdown",
   "metadata": {},
   "source": [
    "Models Compared"
   ]
  },
  {
   "cell_type": "markdown",
   "metadata": {},
   "source": [
    "Conclusion"
   ]
  },
  {
   "cell_type": "code",
   "execution_count": null,
   "metadata": {},
   "outputs": [],
   "source": [
    "Baseline_Model = [0.44562289562289564, 0.3316720558783817, 0.331706937508360, 0.33165428054555934]\n",
    "Random_ForestClassifier = [0.8001010101010101, 0.6806146618207686, 0.7370616409446141, 0.6550893922974595]\n",
    "n=4\n",
    "r = np.arange(n)\n",
    "width = 0.25\n",
    "  \n",
    "  \n",
    "plt.bar(r, Baseline_Model, color = 'b',\n",
    "        width = width, edgecolor = 'black',\n",
    "        label='Baseline Model')\n",
    "plt.bar(r + width, Random_ForestClassifier, color = 'g',\n",
    "        width = width, edgecolor = 'black',\n",
    "        label='Final Model')\n",
    "  \n",
    "plt.xlabel(\"Model Evaluators\")\n",
    "plt.ylabel(\"Score\")\n",
    "plt.title(\"Success of Models\")\n",
    "  \n",
    "# plt.grid(linestyle='--')\n",
    "plt.xticks(r + width/2,['Accuracy','F1','Precision','Recall'])\n",
    "plt.legend()\n",
    "  \n",
    "plt.show()"
   ]
  },
  {
   "cell_type": "markdown",
   "metadata": {},
   "source": [
    "Our model can be used to predict the functionality of wells. This will become increasingly valueable as climate change increase water insecuty.  Our model performs well with an accuracy rate of 80%. I selected accuracy as the relavent metric because well condition will be confirmed with human inspection before resource investment, as such errors are not overly costly. This model had the best accuracy score on the test data. By predicting which wells will be functional, Wells of Life will be able to more effiently plan and distribute resources to address the problem of water insecurity.\n"
   ]
  },
  {
   "cell_type": "code",
   "execution_count": null,
   "metadata": {},
   "outputs": [],
   "source": []
  }
 ],
 "metadata": {
  "kernelspec": {
   "display_name": "Python 3",
   "language": "python",
   "name": "python3"
  },
  "language_info": {
   "codemirror_mode": {
    "name": "ipython",
    "version": 3
   },
   "file_extension": ".py",
   "mimetype": "text/x-python",
   "name": "python",
   "nbconvert_exporter": "python",
   "pygments_lexer": "ipython3",
   "version": "3.8.5"
  }
 },
 "nbformat": 4,
 "nbformat_minor": 4
}
